{
 "cells": [
  {
   "cell_type": "code",
   "execution_count": null,
   "metadata": {},
   "outputs": [],
   "source": [
    "# methods to de;lete the items from the dic\n",
    "\n",
    "1. pop\n",
    "2. popitem"
   ]
  },
  {
   "cell_type": "markdown",
   "metadata": {},
   "source": [
    "# 1.pop \n",
    "\n",
    "- removes the specified key and return the corresponding value. if the key is not found, default is returend if given\n",
    "else key error is reasied"
   ]
  },
  {
   "cell_type": "code",
   "execution_count": 1,
   "metadata": {},
   "outputs": [
    {
     "name": "stdout",
     "output_type": "stream",
     "text": [
      "[{'name': 'rahul', 'age': 24, 'salary': '25k'}]\n"
     ]
    }
   ],
   "source": [
    "emp_data = {'emp1':{'name':'afsaan' , 'age':23 , 'salary':'24k'} , \n",
    "           'emp2':[{'name':'rahul' , 'age':24 , 'salary':'25k'}]}\n",
    "\n",
    "# if key is present\n",
    "print(emp_data.pop('emp2'))"
   ]
  },
  {
   "cell_type": "code",
   "execution_count": 3,
   "metadata": {},
   "outputs": [
    {
     "ename": "KeyError",
     "evalue": "'emp3'",
     "output_type": "error",
     "traceback": [
      "\u001b[0;31m---------------------------------------------------------------------------\u001b[0m",
      "\u001b[0;31mKeyError\u001b[0m                                  Traceback (most recent call last)",
      "\u001b[0;32m<ipython-input-3-a2f3380f35a1>\u001b[0m in \u001b[0;36m<module>\u001b[0;34m\u001b[0m\n\u001b[1;32m      4\u001b[0m            'emp2':[{'name':'rahul' , 'age':24 , 'salary':'25k'}]}\n\u001b[1;32m      5\u001b[0m \u001b[0;34m\u001b[0m\u001b[0m\n\u001b[0;32m----> 6\u001b[0;31m \u001b[0mprint\u001b[0m\u001b[0;34m(\u001b[0m\u001b[0memp_data\u001b[0m\u001b[0;34m.\u001b[0m\u001b[0mpop\u001b[0m\u001b[0;34m(\u001b[0m\u001b[0;34m'emp3'\u001b[0m\u001b[0;34m)\u001b[0m\u001b[0;34m)\u001b[0m\u001b[0;34m\u001b[0m\u001b[0;34m\u001b[0m\u001b[0m\n\u001b[0m",
      "\u001b[0;31mKeyError\u001b[0m: 'emp3'"
     ]
    }
   ],
   "source": [
    "# if key is not present and default is not given\n",
    "\n",
    "emp_data = {'emp1':{'name':'afsaan' , 'age':23 , 'salary':'24k'} , \n",
    "           'emp2':[{'name':'rahul' , 'age':24 , 'salary':'25k'}]}\n",
    "\n",
    "print(emp_data.pop('emp3'))"
   ]
  },
  {
   "cell_type": "code",
   "execution_count": 4,
   "metadata": {},
   "outputs": [
    {
     "name": "stdout",
     "output_type": "stream",
     "text": [
      "key is not present\n"
     ]
    }
   ],
   "source": [
    "# if key is not present and default is given\n",
    "\n",
    "emp_data = {'emp1':{'name':'afsaan' , 'age':23 , 'salary':'24k'} , \n",
    "           'emp2':[{'name':'rahul' , 'age':24 , 'salary':'25k'}]}\n",
    "\n",
    "print(emp_data.pop('emp3', 'key is not present'))"
   ]
  },
  {
   "cell_type": "markdown",
   "metadata": {},
   "source": [
    "# 2. popitem\n",
    "\n",
    "- remove and return tuple (key,value) pair from the last\n",
    "\n"
   ]
  },
  {
   "cell_type": "code",
   "execution_count": 5,
   "metadata": {},
   "outputs": [
    {
     "name": "stdout",
     "output_type": "stream",
     "text": [
      "('emp2', [{'name': 'rahul', 'age': 24, 'salary': '25k'}])\n"
     ]
    }
   ],
   "source": [
    "emp_data = {'emp1':{'name':'afsaan' , 'age':23 , 'salary':'24k'} , \n",
    "           'emp2':[{'name':'rahul' , 'age':24 , 'salary':'25k'}]}\n",
    "\n",
    "print(emp_data.popitem())"
   ]
  },
  {
   "cell_type": "code",
   "execution_count": 8,
   "metadata": {},
   "outputs": [
    {
     "data": {
      "text/plain": [
       "24"
      ]
     },
     "execution_count": 8,
     "metadata": {},
     "output_type": "execute_result"
    }
   ],
   "source": [
    "# remove age of employee 2\n",
    "\n",
    "emp_data = {'emp1':{'name':'afsaan' , 'age':23 , 'salary':'24k'} , \n",
    "           'emp2':[{'name':'rahul' , 'age':24 , 'salary':'25k'}]}\n",
    "\n",
    "emp_data['emp2'][0].pop('age')"
   ]
  },
  {
   "cell_type": "code",
   "execution_count": 10,
   "metadata": {},
   "outputs": [
    {
     "data": {
      "text/plain": [
       "dict_keys(['emp1', 'emp2'])"
      ]
     },
     "execution_count": 10,
     "metadata": {},
     "output_type": "execute_result"
    }
   ],
   "source": [
    "# Methods to check all the keys\n",
    "\n",
    "emp_data = {'emp1':{'name':'afsaan' , 'age':23 , 'salary':'24k'} , \n",
    "           'emp2':[{'name':'rahul' , 'age':24 , 'salary':'25k'}]}\n",
    "\n",
    "\n",
    "emp_data.keys()"
   ]
  },
  {
   "cell_type": "code",
   "execution_count": 11,
   "metadata": {},
   "outputs": [
    {
     "data": {
      "text/plain": [
       "2"
      ]
     },
     "execution_count": 11,
     "metadata": {},
     "output_type": "execute_result"
    }
   ],
   "source": [
    "#IS ITERABLE OR NOT\n",
    "\n",
    "# yES ITS AN ITERABLE\n",
    "\n",
    "len(emp_data.keys())"
   ]
  },
  {
   "cell_type": "code",
   "execution_count": 12,
   "metadata": {},
   "outputs": [
    {
     "data": {
      "text/plain": [
       "['__and__',\n",
       " '__class__',\n",
       " '__contains__',\n",
       " '__delattr__',\n",
       " '__dir__',\n",
       " '__doc__',\n",
       " '__eq__',\n",
       " '__format__',\n",
       " '__ge__',\n",
       " '__getattribute__',\n",
       " '__gt__',\n",
       " '__hash__',\n",
       " '__init__',\n",
       " '__init_subclass__',\n",
       " '__iter__',\n",
       " '__le__',\n",
       " '__len__',\n",
       " '__lt__',\n",
       " '__ne__',\n",
       " '__new__',\n",
       " '__or__',\n",
       " '__rand__',\n",
       " '__reduce__',\n",
       " '__reduce_ex__',\n",
       " '__repr__',\n",
       " '__reversed__',\n",
       " '__ror__',\n",
       " '__rsub__',\n",
       " '__rxor__',\n",
       " '__setattr__',\n",
       " '__sizeof__',\n",
       " '__str__',\n",
       " '__sub__',\n",
       " '__subclasshook__',\n",
       " '__xor__',\n",
       " 'isdisjoint']"
      ]
     },
     "execution_count": 12,
     "metadata": {},
     "output_type": "execute_result"
    }
   ],
   "source": [
    "dir(emp_data.keys())"
   ]
  },
  {
   "cell_type": "code",
   "execution_count": 13,
   "metadata": {},
   "outputs": [
    {
     "data": {
      "text/plain": [
       "dict_values([{'name': 'afsaan', 'age': 23, 'salary': '24k'}, [{'name': 'rahul', 'age': 24, 'salary': '25k'}]])"
      ]
     },
     "execution_count": 13,
     "metadata": {},
     "output_type": "execute_result"
    }
   ],
   "source": [
    "# methods to check all the values in the dic\n",
    "\n",
    "\n",
    "emp_data = {'emp1':{'name':'afsaan' , 'age':23 , 'salary':'24k'} , \n",
    "           'emp2':[{'name':'rahul' , 'age':24 , 'salary':'25k'}]}\n",
    "\n",
    "emp_data.values()"
   ]
  },
  {
   "cell_type": "code",
   "execution_count": 14,
   "metadata": {},
   "outputs": [
    {
     "data": {
      "text/plain": [
       "dict_items([('emp1', {'name': 'afsaan', 'age': 23, 'salary': '24k'}), ('emp2', [{'name': 'rahul', 'age': 24, 'salary': '25k'}])])"
      ]
     },
     "execution_count": 14,
     "metadata": {},
     "output_type": "execute_result"
    }
   ],
   "source": [
    "# methods to check all the items in the dic\n",
    "\n",
    "emp_data.items() # --->  list of tuples  -- (key , value)"
   ]
  },
  {
   "cell_type": "code",
   "execution_count": 18,
   "metadata": {},
   "outputs": [],
   "source": [
    "emp_data = {'emp1':{'name':'afsaan' , 'age':23 , 'salary':'24k'} , \n",
    "           'emp2':[{'name':'rahul' , 'age':24 , 'salary':'25k'}]}\n",
    "\n",
    "for i , j in emp_data.items():\n",
    "    if i == 'emp2':\n",
    "        emp_data[i][0]['age'] = 35\n"
   ]
  },
  {
   "cell_type": "code",
   "execution_count": 19,
   "metadata": {},
   "outputs": [
    {
     "data": {
      "text/plain": [
       "{'emp1': {'name': 'afsaan', 'age': 23, 'salary': '24k'},\n",
       " 'emp2': [{'name': 'rahul', 'age': 35, 'salary': '25k'}]}"
      ]
     },
     "execution_count": 19,
     "metadata": {},
     "output_type": "execute_result"
    }
   ],
   "source": [
    "emp_data"
   ]
  },
  {
   "cell_type": "code",
   "execution_count": 26,
   "metadata": {},
   "outputs": [
    {
     "data": {
      "text/plain": [
       "{1: 'new_key', 2: 'new_key', 3: 'new_key'}"
      ]
     },
     "execution_count": 26,
     "metadata": {},
     "output_type": "execute_result"
    }
   ],
   "source": [
    "# from keys method\n",
    "\n",
    "# create a new dict with the keys from the iterables and value set to default\n",
    "\n",
    "d2 = dict.fromkeys([1,2,3] , 'new_key')\n",
    "d2"
   ]
  },
  {
   "cell_type": "code",
   "execution_count": 28,
   "metadata": {
    "scrolled": true
   },
   "outputs": [
    {
     "name": "stdout",
     "output_type": "stream",
     "text": [
      "{'emp1': {'name': 'afsaan', 'age': 23, 'salary': '24k'}, 'emp2': [{'name': 'rahul', 'age': 24, 'salary': '25k'}]}\n",
      "None\n",
      "{}\n"
     ]
    }
   ],
   "source": [
    "# clear method\n",
    "\n",
    "emp_data = {'emp1':{'name':'afsaan' , 'age':23 , 'salary':'24k'} , \n",
    "           'emp2':[{'name':'rahul' , 'age':24 , 'salary':'25k'}]}\n",
    "\n",
    "print(emp_data)\n",
    "\n",
    "print(emp_data.clear())\n",
    "\n",
    "print(emp_data)"
   ]
  },
  {
   "cell_type": "code",
   "execution_count": 31,
   "metadata": {},
   "outputs": [],
   "source": [
    "# dict comprehension\n",
    "\n",
    "\n",
    "dict_keys = [1,2,3,4,5]\n",
    "\n",
    "# {'key':key**2}\n",
    "\n",
    "a = {i:i**2 for i in dict_keys}\n",
    "\n"
   ]
  },
  {
   "cell_type": "code",
   "execution_count": 33,
   "metadata": {},
   "outputs": [
    {
     "data": {
      "text/plain": [
       "{1: 1, 2: 4, 3: 9, 4: 16, 5: 25}"
      ]
     },
     "execution_count": 33,
     "metadata": {},
     "output_type": "execute_result"
    }
   ],
   "source": [
    "a"
   ]
  },
  {
   "cell_type": "markdown",
   "metadata": {},
   "source": [
    "# Conditional Statments"
   ]
  },
  {
   "cell_type": "markdown",
   "metadata": {},
   "source": [
    "# if statements"
   ]
  },
  {
   "cell_type": "code",
   "execution_count": null,
   "metadata": {},
   "outputs": [],
   "source": [
    "# stat1\n",
    "# stat2\n",
    "# stat3\n",
    "# if cond:\n",
    "#     stat4\n",
    "#     stat5\n",
    "    \n",
    "# if cond is true - 1,2,3,4,5\n",
    "# if cond is false - 1,2,3"
   ]
  },
  {
   "cell_type": "code",
   "execution_count": null,
   "metadata": {},
   "outputs": [],
   "source": [
    "# stat1\n",
    "# stat2\n",
    "# stat3\n",
    "# if cond:\n",
    "#     stat4\n",
    "#     stat5\n",
    "# stat6\n",
    "# stat7\n",
    "\n",
    "if cond is true - 1,2,3,4,5,6,7\n",
    "if cond is false - 1,2,3,6,7"
   ]
  },
  {
   "cell_type": "markdown",
   "metadata": {},
   "source": [
    "# if , else statement"
   ]
  },
  {
   "cell_type": "code",
   "execution_count": null,
   "metadata": {},
   "outputs": [],
   "source": [
    "# stat1\n",
    "# stat2\n",
    "# stat3\n",
    "# if cond:\n",
    "#     stat4\n",
    "#     stat5\n",
    "# else:\n",
    "#     stat6\n",
    "#     stat7\n",
    "# stat8\n",
    "# stat9\n",
    "\n",
    "if cond is true - 1,2,3,4,5,8,9\n",
    "if cond is false - 1,2,3,6,7,8,9"
   ]
  },
  {
   "cell_type": "code",
   "execution_count": null,
   "metadata": {},
   "outputs": [],
   "source": [
    "#stat1\n",
    "# stat2\n",
    "# stat3\n",
    "# if cond1:\n",
    "#     stat4\n",
    "#     stat5\n",
    "# if cond2:\n",
    "#     stat6\n",
    "#     stat7\n",
    "# if cond3:\n",
    "#     stat8\n",
    "#     stat9\n",
    "# else:\n",
    "#     stat10\n",
    "#     stat11\n",
    "# stat12\n",
    "# stat13\n",
    "\n",
    "# if cond 1 is true and rest false - 1,2,3,4,5,10,11,12,13\n",
    "# if cond 1 and 2 is true and rest false - 1,2,3,4,5,6,7,10,11,12,13\n",
    "# if all are fale - 1,2,3,10,11,12,13\n",
    "# if cond 2 and 3 are true and rest false - 1,2,3,6,7,8,9,12,13"
   ]
  },
  {
   "cell_type": "code",
   "execution_count": null,
   "metadata": {},
   "outputs": [],
   "source": [
    "# stat1\n",
    "# stat2\n",
    "# stat3\n",
    "# if cond1:\n",
    "#     stat4\n",
    "#     stat5\n",
    "# else:\n",
    "#     stat6\n",
    "#     stat7\n",
    "# if cond2:\n",
    "#     stat8\n",
    "#     stat9\n",
    "# if cond3:\n",
    "#     stat10\n",
    "#     stat11\n",
    "# else:\n",
    "#     stat12\n",
    "#     stat13\n",
    "# stat14\n",
    "# stat15\n",
    "\n",
    "# if cond 1 is true and rest false - 1,2,3,4,5,12,13,14,15\n",
    "# if cond 2 is true - 1,2,3,6,7,8,9,12,13,14,15"
   ]
  },
  {
   "cell_type": "markdown",
   "metadata": {},
   "source": [
    "# if , elif , else"
   ]
  },
  {
   "cell_type": "code",
   "execution_count": null,
   "metadata": {},
   "outputs": [],
   "source": [
    "# stat1\n",
    "# stat2\n",
    "# stat3\n",
    "# if cond1:\n",
    "#     stat4\n",
    "#     stat5\n",
    "# elif cond2:\n",
    "#     stat8\n",
    "#     stat9\n",
    "# elif cond3:\n",
    "#     stat10\n",
    "#     stat11\n",
    "# else:\n",
    "#     stat12\n",
    "#     stat13\n",
    "# stat14\n",
    "# stat15\n",
    "\n",
    "\n",
    "# if all condition are true --> 1,2,3,4,5,14,15\n",
    "# if 1 and 2 are false rest all true ---> 1,2,3,10,11,14,15\n",
    "# if all are false - 1,2,3,12,13,14,15"
   ]
  },
  {
   "cell_type": "code",
   "execution_count": 34,
   "metadata": {},
   "outputs": [
    {
     "name": "stdout",
     "output_type": "stream",
     "text": [
      "messi\n",
      "neymar\n"
     ]
    }
   ],
   "source": [
    "a = 33\n",
    "b = 333\n",
    "if b>a:\n",
    "    print('messi')\n",
    "print('neymar')"
   ]
  },
  {
   "cell_type": "code",
   "execution_count": 35,
   "metadata": {},
   "outputs": [
    {
     "ename": "IndentationError",
     "evalue": "expected an indented block (<ipython-input-35-4beb104334e3>, line 4)",
     "output_type": "error",
     "traceback": [
      "\u001b[0;36m  File \u001b[0;32m\"<ipython-input-35-4beb104334e3>\"\u001b[0;36m, line \u001b[0;32m4\u001b[0m\n\u001b[0;31m    print('messi')\u001b[0m\n\u001b[0m    ^\u001b[0m\n\u001b[0;31mIndentationError\u001b[0m\u001b[0;31m:\u001b[0m expected an indented block\n"
     ]
    }
   ],
   "source": [
    "a = 33\n",
    "b = 333\n",
    "if b>a:\n",
    "print('messi')\n",
    "print('neymar')"
   ]
  },
  {
   "cell_type": "code",
   "execution_count": 36,
   "metadata": {},
   "outputs": [
    {
     "name": "stdout",
     "output_type": "stream",
     "text": [
      "kante\n",
      "neymar\n"
     ]
    }
   ],
   "source": [
    "a = 34\n",
    "b = 33\n",
    "if b>a:\n",
    "    print('messi')\n",
    "else:\n",
    "    print('kante')\n",
    "print('neymar')"
   ]
  },
  {
   "cell_type": "code",
   "execution_count": 38,
   "metadata": {},
   "outputs": [
    {
     "name": "stdout",
     "output_type": "stream",
     "text": [
      "hello\n",
      "bye\n"
     ]
    }
   ],
   "source": [
    "a = 200\n",
    "b = 200\n",
    "\n",
    "if a < b:\n",
    "    print('hi')\n",
    "elif a==b:\n",
    "    print('hello')\n",
    "elif a>b:\n",
    "    print('holaa')\n",
    "else:\n",
    "    print('heya')\n",
    "print('bye')"
   ]
  },
  {
   "cell_type": "code",
   "execution_count": 40,
   "metadata": {},
   "outputs": [
    {
     "name": "stdout",
     "output_type": "stream",
     "text": [
      "heya\n",
      "bye\n"
     ]
    }
   ],
   "source": [
    "a = 201\n",
    "b = 199\n",
    "\n",
    "if a < b:  \n",
    "    print('hi')\n",
    "elif a==b: \n",
    "    print('hello')\n",
    "elif a==200: \n",
    "    print('holaa')\n",
    "else:\n",
    "    print('heya')\n",
    "print('bye')"
   ]
  },
  {
   "cell_type": "code",
   "execution_count": 42,
   "metadata": {},
   "outputs": [
    {
     "name": "stdout",
     "output_type": "stream",
     "text": [
      "hello\n",
      "Goa\n"
     ]
    }
   ],
   "source": [
    "a = 200\n",
    "b = 100\n",
    "c = 700\n",
    "\n",
    "if a>b and c>a:\n",
    "    print('hello')\n",
    "else:\n",
    "    print('psg')\n",
    "print('Goa')"
   ]
  },
  {
   "cell_type": "code",
   "execution_count": 43,
   "metadata": {},
   "outputs": [
    {
     "name": "stdout",
     "output_type": "stream",
     "text": [
      "hello\n",
      "Goa\n"
     ]
    }
   ],
   "source": [
    "a = 200\n",
    "b = 800\n",
    "c = 700\n",
    "\n",
    "if a>b or c>a:\n",
    "    print('hello')\n",
    "else:\n",
    "    print('psg')\n",
    "print('Goa')"
   ]
  },
  {
   "cell_type": "code",
   "execution_count": 45,
   "metadata": {},
   "outputs": [
    {
     "name": "stdout",
     "output_type": "stream",
     "text": [
      "10--?20\n"
     ]
    }
   ],
   "source": [
    "a = 10\n",
    "b = 20\n",
    "c = 30\n",
    "\n",
    "print(a , end='--?')\n",
    "print(b)"
   ]
  },
  {
   "cell_type": "code",
   "execution_count": 48,
   "metadata": {},
   "outputs": [
    {
     "name": "stdout",
     "output_type": "stream",
     "text": [
      "10***20\n",
      "30\n"
     ]
    }
   ],
   "source": [
    "a = 10\n",
    "b = 20\n",
    "c = 30\n",
    "\n",
    "print(a,b , sep = '***')\n",
    "print(c)"
   ]
  },
  {
   "cell_type": "code",
   "execution_count": 49,
   "metadata": {},
   "outputs": [
    {
     "name": "stdout",
     "output_type": "stream",
     "text": [
      "10***20\n",
      "30++++50---100\n"
     ]
    }
   ],
   "source": [
    "a = 10\n",
    "b = 20\n",
    "c = 30\n",
    "d= 50\n",
    "e = 100\n",
    "\n",
    "print(a,b , sep = '***')\n",
    "print(c,d , sep='++++' , end='---')\n",
    "print(e)"
   ]
  },
  {
   "cell_type": "code",
   "execution_count": null,
   "metadata": {},
   "outputs": [],
   "source": [
    "# Nested if\n",
    "\n",
    "# - if inside a if stament"
   ]
  },
  {
   "cell_type": "code",
   "execution_count": 50,
   "metadata": {},
   "outputs": [
    {
     "name": "stdout",
     "output_type": "stream",
     "text": [
      "Mbappe\n",
      "salah\n",
      "football\n"
     ]
    }
   ],
   "source": [
    "x = 35\n",
    "\n",
    "if x > 10:\n",
    "    print('Mbappe')\n",
    "    if x > 20:\n",
    "        print('salah')\n",
    "    else:\n",
    "        print('ronaldo')\n",
    "else:\n",
    "    if x == 20:\n",
    "        print('messi')\n",
    "    else:\n",
    "        print('Di maria')\n",
    "\n",
    "print('football')"
   ]
  },
  {
   "cell_type": "code",
   "execution_count": 51,
   "metadata": {},
   "outputs": [
    {
     "name": "stdout",
     "output_type": "stream",
     "text": [
      "Mbappe\n",
      "ronaldo\n",
      "football\n"
     ]
    }
   ],
   "source": [
    "x = 15\n",
    "\n",
    "if x > 10:  # true\n",
    "    print('Mbappe') # exe\n",
    "    if x > 20: # False\n",
    "        print('salah')\n",
    "    else: # xece\n",
    "        print('ronaldo')\n",
    "else:\n",
    "    if x == 20:\n",
    "        print('messi')\n",
    "    else:\n",
    "        print('Di maria')\n",
    "\n",
    "print('football')"
   ]
  },
  {
   "cell_type": "code",
   "execution_count": 53,
   "metadata": {},
   "outputs": [
    {
     "name": "stdout",
     "output_type": "stream",
     "text": [
      "Mbappe\n",
      "ronaldo\n",
      "football\n"
     ]
    }
   ],
   "source": [
    "x = 5\n",
    "\n",
    "if x >= 5:  # true\n",
    "    print('Mbappe') # exe\n",
    "    if x > 20: # False\n",
    "        print('salah')\n",
    "    else: # xece\n",
    "        print('ronaldo')\n",
    "else:\n",
    "    if x == 5:\n",
    "        print('messi')\n",
    "    else:\n",
    "        print('Di maria')\n",
    "\n",
    "print('football')"
   ]
  },
  {
   "cell_type": "code",
   "execution_count": 56,
   "metadata": {},
   "outputs": [
    {
     "name": "stdout",
     "output_type": "stream",
     "text": [
      "please eneter a stringLevel\n",
      "palindrome\n"
     ]
    }
   ],
   "source": [
    "#q1 - check wehter a user defined string is palindrome or not\n",
    "\n",
    "user_string = input('please eneter a string').lower()\n",
    "\n",
    "if user_string == user_string[::-1]:\n",
    "    print('palindrome')\n",
    "else:\n",
    "    print('not a palindrome')"
   ]
  },
  {
   "cell_type": "code",
   "execution_count": null,
   "metadata": {},
   "outputs": [],
   "source": [
    "# taje a five nmbers (int) from user and convert to its word form\n",
    "\n",
    "1 ---> one\n",
    "5 ---> five\n",
    "7 ---> out of bound"
   ]
  },
  {
   "cell_type": "code",
   "execution_count": null,
   "metadata": {},
   "outputs": [],
   "source": [
    "# write a program to find if the user defined year is a leap year or not\n",
    "\n",
    "#research + coding"
   ]
  },
  {
   "cell_type": "code",
   "execution_count": null,
   "metadata": {},
   "outputs": [],
   "source": []
  }
 ],
 "metadata": {
  "kernelspec": {
   "display_name": "Python 3",
   "language": "python",
   "name": "python3"
  },
  "language_info": {
   "codemirror_mode": {
    "name": "ipython",
    "version": 3
   },
   "file_extension": ".py",
   "mimetype": "text/x-python",
   "name": "python",
   "nbconvert_exporter": "python",
   "pygments_lexer": "ipython3",
   "version": "3.8.5"
  }
 },
 "nbformat": 4,
 "nbformat_minor": 4
}
