{
 "cells": [
  {
   "cell_type": "code",
   "execution_count": 2,
   "metadata": {},
   "outputs": [
    {
     "name": "stdout",
     "output_type": "stream",
     "text": [
      "True\n",
      "True\n",
      "True\n",
      "True\n",
      "False\n"
     ]
    }
   ],
   "source": [
    "s1 = 'abc'\n",
    "s2 = '123abc'\n",
    "s3 = '*' \n",
    "s4 = '112'\n",
    "s5 = 'fließen'\n",
    "\n",
    "# iascii - retrun true if all the characters are from ascii table\n",
    "print(s1.isascii()) # true\n",
    "print(s2.isascii()) # True\n",
    "print(s3.isascii()) # True\n",
    "print(s4.isascii()) # true\n",
    "print(s5.isascii()) # False"
   ]
  },
  {
   "cell_type": "code",
   "execution_count": 3,
   "metadata": {},
   "outputs": [],
   "source": [
    "# escape characters"
   ]
  },
  {
   "cell_type": "code",
   "execution_count": 16,
   "metadata": {},
   "outputs": [
    {
     "name": "stdout",
     "output_type": "stream",
     "text": [
      "hello\\nworld\n"
     ]
    }
   ],
   "source": [
    "# \\n - new line\n",
    "\n",
    "print('hello\\\\nworld')"
   ]
  },
  {
   "cell_type": "code",
   "execution_count": 9,
   "metadata": {},
   "outputs": [
    {
     "name": "stdout",
     "output_type": "stream",
     "text": [
      "line1      line2      line3\n"
     ]
    }
   ],
   "source": [
    "# \\ - back slash\n",
    "\n",
    "print('line1\\\n",
    "      line2\\\n",
    "      line3')"
   ]
  },
  {
   "cell_type": "code",
   "execution_count": 18,
   "metadata": {},
   "outputs": [
    {
     "name": "stdout",
     "output_type": "stream",
     "text": [
      "this is a python's class\n"
     ]
    }
   ],
   "source": [
    "a = 'this is a python\\'s class'\n",
    "print(a)"
   ]
  },
  {
   "cell_type": "code",
   "execution_count": 19,
   "metadata": {},
   "outputs": [
    {
     "name": "stdout",
     "output_type": "stream",
     "text": [
      "this is a \"pythons\" class\n"
     ]
    }
   ],
   "source": [
    "a = \"this is a \\\"pythons\\\" class\"\n",
    "print(a)"
   ]
  },
  {
   "cell_type": "code",
   "execution_count": null,
   "metadata": {},
   "outputs": [],
   "source": [
    "a = 'this is a \\\"pythons\\\" class'\n",
    "print(a)"
   ]
  },
  {
   "cell_type": "code",
   "execution_count": 21,
   "metadata": {},
   "outputs": [
    {
     "name": "stdout",
     "output_type": "stream",
     "text": [
      "afsan\\bkhan\n"
     ]
    }
   ],
   "source": [
    "# \\b - backspace\n",
    "\n",
    "print('afsan\\bkhan')"
   ]
  },
  {
   "cell_type": "code",
   "execution_count": 22,
   "metadata": {},
   "outputs": [
    {
     "name": "stdout",
     "output_type": "stream",
     "text": [
      "ab\bc\n"
     ]
    }
   ],
   "source": [
    "print('ab' + '\\b' +'c')"
   ]
  },
  {
   "cell_type": "code",
   "execution_count": 25,
   "metadata": {},
   "outputs": [
    {
     "name": "stdout",
     "output_type": "stream",
     "text": [
      "hello\r",
      "wor\n"
     ]
    }
   ],
   "source": [
    "# \\r - carriage return - Moves all the characters after the C.R to the beg of the line while overirding the same characters\n",
    "\n",
    "print('hello\\rwor')\n"
   ]
  },
  {
   "cell_type": "code",
   "execution_count": 27,
   "metadata": {},
   "outputs": [
    {
     "name": "stdout",
     "output_type": "stream",
     "text": [
      "hello\r",
      "afsaan\n"
     ]
    }
   ],
   "source": [
    "print('hello\\rafsaan')"
   ]
  },
  {
   "cell_type": "code",
   "execution_count": 28,
   "metadata": {},
   "outputs": [
    {
     "name": "stdout",
     "output_type": "stream",
     "text": [
      "hello\tworld\n"
     ]
    }
   ],
   "source": [
    "# \\t - tab\n",
    "print('hello\\tworld')"
   ]
  },
  {
   "cell_type": "code",
   "execution_count": 31,
   "metadata": {},
   "outputs": [
    {
     "name": "stdout",
     "output_type": "stream",
     "text": [
      "afsaan\\nkhan\n"
     ]
    }
   ],
   "source": [
    "# r - rawsting\n",
    "\n",
    "print(r'afsaan\\nkhan')"
   ]
  },
  {
   "cell_type": "code",
   "execution_count": 35,
   "metadata": {},
   "outputs": [
    {
     "name": "stdout",
     "output_type": "stream",
     "text": [
      "True\n",
      "True\n",
      "False\n",
      "False\n",
      "----------------------------------------------\n",
      "False\n",
      "False\n",
      "False\n",
      "False\n",
      "False\n",
      "True\n",
      "----------------------------------------------\n",
      "False\n",
      "False\n",
      "False\n",
      "False\n",
      "True\n",
      "False\n"
     ]
    }
   ],
   "source": [
    "s1 = 'abc'\n",
    "s2 = '123abc'\n",
    "s3 = '*' \n",
    "s4 = '112'\n",
    "s5 = '112Ax'\n",
    "s6 = 'ABC'\n",
    "\n",
    "# islower \n",
    "print(s1.islower()) # True\n",
    "print(s2.islower())#  True\n",
    "print(s3.islower()) # Flase\n",
    "print(s4.islower()) # False\n",
    "\n",
    "print('----------------------------------------------')\n",
    "\n",
    "# isupper \n",
    "print(s1.isupper()) # False\n",
    "print(s2.isupper())#  False\n",
    "print(s3.isupper()) # Flase\n",
    "print(s4.isupper()) # False\n",
    "print(s5.isupper()) # True\n",
    "print(s6.isupper()) # True\n",
    "\n",
    "\n",
    "print('----------------------------------------------')\n",
    "\n",
    "# istitle \n",
    "print(s1.istitle()) # False\n",
    "print(s2.istitle())#  False\n",
    "print(s3.istitle()) # Flase\n",
    "print(s4.istitle()) # False\n",
    "print(s5.istitle()) # False\n",
    "print(s6.istitle()) # False"
   ]
  },
  {
   "cell_type": "code",
   "execution_count": 38,
   "metadata": {},
   "outputs": [
    {
     "data": {
      "text/plain": [
       "'Abc Kyc Xyz'"
      ]
     },
     "execution_count": 38,
     "metadata": {},
     "output_type": "execute_result"
    }
   ],
   "source": [
    "# title\n",
    "\n",
    "'ABC kyc xyz'.title()"
   ]
  },
  {
   "cell_type": "code",
   "execution_count": 41,
   "metadata": {},
   "outputs": [],
   "source": [
    "a = 'Afsan is a learnbay Instructor and Suraj , Akshay , Deepti are the students'"
   ]
  },
  {
   "cell_type": "code",
   "execution_count": 42,
   "metadata": {},
   "outputs": [
    {
     "name": "stdout",
     "output_type": "stream",
     "text": [
      "Afsan\n",
      "Instructor\n",
      "Suraj\n",
      "Akshay\n",
      "Deepti\n"
     ]
    }
   ],
   "source": [
    "for i in a.split():\n",
    "    if i.istitle():\n",
    "        print(i)"
   ]
  },
  {
   "cell_type": "code",
   "execution_count": 40,
   "metadata": {},
   "outputs": [
    {
     "data": {
      "text/plain": [
       "['this', 'is', 'a', '\"pythons\"', 'class']"
      ]
     },
     "execution_count": 40,
     "metadata": {},
     "output_type": "execute_result"
    }
   ],
   "source": [
    "a.split()"
   ]
  },
  {
   "cell_type": "code",
   "execution_count": 48,
   "metadata": {},
   "outputs": [
    {
     "name": "stdout",
     "output_type": "stream",
     "text": [
      "8\n",
      "python\n",
      "afsan\n",
      "@@afsan\n",
      "afsan@@\n"
     ]
    }
   ],
   "source": [
    "# strip , rstrip , lstrip\n",
    "\n",
    "# strip - removeing the space(default) from both the ends\n",
    "\n",
    "a = ' python '\n",
    "print(len(a))\n",
    "print(a.strip()) # deagult value is space\n",
    "\n",
    "a = '@@afsan@@'\n",
    "print(a.strip('@'))\n",
    "\n",
    "\n",
    "# rstrip - \n",
    "\n",
    "a = '@@afsan@@'\n",
    "print(a.rstrip('@'))\n",
    "\n",
    "\n",
    "# lstrip - \n",
    "\n",
    "a = '@@afsan@@'\n",
    "print(a.lstrip('@'))"
   ]
  },
  {
   "cell_type": "code",
   "execution_count": 53,
   "metadata": {},
   "outputs": [
    {
     "name": "stdout",
     "output_type": "stream",
     "text": [
      "please enter your usrnameAfsan \n",
      "please enter the password123\n",
      "looged in\n"
     ]
    }
   ],
   "source": [
    "username = input('please enter your usrname')\n",
    "pas  = input('please enter the password')\n",
    "\n",
    "if username.strip() == 'Afsan' and pas.strip() == '123':\n",
    "    print('looged in')\n",
    "else:\n",
    "    print('wrong credentials')"
   ]
  },
  {
   "cell_type": "code",
   "execution_count": 59,
   "metadata": {},
   "outputs": [
    {
     "data": {
      "text/plain": [
       "0"
      ]
     },
     "execution_count": 59,
     "metadata": {},
     "output_type": "execute_result"
    }
   ],
   "source": [
    "# count\n",
    "\n",
    "my_str = ' afsaan loves to play football'\n",
    "my_str.count('a')\n",
    "my_str.count('afsaan', 4,18)"
   ]
  },
  {
   "cell_type": "code",
   "execution_count": 66,
   "metadata": {},
   "outputs": [
    {
     "data": {
      "text/plain": [
       "26"
      ]
     },
     "execution_count": 66,
     "metadata": {},
     "output_type": "execute_result"
    }
   ],
   "source": [
    "# find , rfind , index , rindex - this method finds staring index  of the specified character\n",
    "\n",
    "\n",
    "# find - finds the inex from L to R\n",
    "my_str = 'afsaan loves to play football'\n",
    "my_str.find('n')\n",
    "\n",
    "# rfind - R to l\n",
    "my_str = 'afsaan loves to play football'\n",
    "my_str.rfind('a')\n",
    "\n",
    "\n",
    "# index - finds the inex from L to R\n",
    "my_str = 'afsaan loves to play football'\n",
    "my_str.index('n')\n",
    "\n",
    "# rindex - R to l\n",
    "my_str = 'afsaan loves to play football'\n",
    "my_str.rindex('a')"
   ]
  },
  {
   "cell_type": "code",
   "execution_count": 68,
   "metadata": {},
   "outputs": [
    {
     "ename": "ValueError",
     "evalue": "substring not found",
     "output_type": "error",
     "traceback": [
      "\u001b[0;31m---------------------------------------------------------------------------\u001b[0m",
      "\u001b[0;31mValueError\u001b[0m                                Traceback (most recent call last)",
      "\u001b[0;32m<ipython-input-68-4c79678f1eed>\u001b[0m in \u001b[0;36m<module>\u001b[0;34m\u001b[0m\n\u001b[1;32m      7\u001b[0m \u001b[0;31m# index - finds the inex from L to R\u001b[0m\u001b[0;34m\u001b[0m\u001b[0;34m\u001b[0m\u001b[0;34m\u001b[0m\u001b[0m\n\u001b[1;32m      8\u001b[0m \u001b[0mmy_str\u001b[0m \u001b[0;34m=\u001b[0m \u001b[0;34m'afsaan loves to play football'\u001b[0m\u001b[0;34m\u001b[0m\u001b[0;34m\u001b[0m\u001b[0m\n\u001b[0;32m----> 9\u001b[0;31m \u001b[0mmy_str\u001b[0m\u001b[0;34m.\u001b[0m\u001b[0mindex\u001b[0m\u001b[0;34m(\u001b[0m\u001b[0;34m'x'\u001b[0m\u001b[0;34m)\u001b[0m\u001b[0;34m\u001b[0m\u001b[0;34m\u001b[0m\u001b[0m\n\u001b[0m",
      "\u001b[0;31mValueError\u001b[0m: substring not found"
     ]
    }
   ],
   "source": [
    "# NOTE - find will retrun -1 if noting is found whereas index will rasie an error\n",
    "\n",
    "# find - finds the inex from L to R\n",
    "my_str = 'afsaan loves to play football'\n",
    "my_str.find('x')\n",
    "\n",
    "# index - finds the inex from L to R\n",
    "my_str = 'afsaan loves to play football'\n",
    "my_str.index('x')"
   ]
  },
  {
   "cell_type": "code",
   "execution_count": 69,
   "metadata": {},
   "outputs": [
    {
     "name": "stdout",
     "output_type": "stream",
     "text": [
      "afsan                hello world\n"
     ]
    }
   ],
   "source": [
    "# ljust ( left adjustment)  , rjust ( right adjustment)\n",
    "\n",
    "text = 'afsan'\n",
    "\n",
    "print(text.ljust(20) , 'hello world')"
   ]
  },
  {
   "cell_type": "code",
   "execution_count": 70,
   "metadata": {},
   "outputs": [
    {
     "name": "stdout",
     "output_type": "stream",
     "text": [
      "               afsan hello world\n"
     ]
    }
   ],
   "source": [
    "text = 'afsan'\n",
    "\n",
    "print(text.rjust(20) , 'hello world')"
   ]
  },
  {
   "cell_type": "code",
   "execution_count": 71,
   "metadata": {},
   "outputs": [
    {
     "data": {
      "text/plain": [
       "'Afspn loves to plpy footbpll'"
      ]
     },
     "execution_count": 71,
     "metadata": {},
     "output_type": "execute_result"
    }
   ],
   "source": [
    "# replace \n",
    "\n",
    "my_str = 'Afsan loves to play football'\n",
    "my_str.replace('a' , 'p')"
   ]
  },
  {
   "cell_type": "code",
   "execution_count": 72,
   "metadata": {},
   "outputs": [
    {
     "data": {
      "text/plain": [
       "'Afsan loves to play football'"
      ]
     },
     "execution_count": 72,
     "metadata": {},
     "output_type": "execute_result"
    }
   ],
   "source": [
    "my_str"
   ]
  },
  {
   "cell_type": "code",
   "execution_count": 75,
   "metadata": {},
   "outputs": [
    {
     "name": "stdout",
     "output_type": "stream",
     "text": [
      "<class 'str'> Afsan loves to play football\n",
      "['Afsan', 'loves', 'to', 'play', 'football']\n"
     ]
    }
   ],
   "source": [
    "# split - cobverts string obj to a list obj\n",
    "\n",
    "my_str = 'Afsan loves to play football'\n",
    "print(type(my_str) , my_str)\n",
    "\n",
    "print(my_str.split()) # default is space"
   ]
  },
  {
   "cell_type": "code",
   "execution_count": 76,
   "metadata": {},
   "outputs": [
    {
     "name": "stdout",
     "output_type": "stream",
     "text": [
      "<class 'str'> Afsan loves to play football\n",
      "['Afs', 'n loves to pl', 'y footb', 'll']\n"
     ]
    }
   ],
   "source": [
    "my_str = 'Afsan loves to play football'\n",
    "print(type(my_str) , my_str)\n",
    "\n",
    "print(my_str.split('a')) # default is space"
   ]
  },
  {
   "cell_type": "code",
   "execution_count": 79,
   "metadata": {},
   "outputs": [
    {
     "data": {
      "text/plain": [
       "'Afsan--->loves--->to--->play--->football'"
      ]
     },
     "execution_count": 79,
     "metadata": {},
     "output_type": "execute_result"
    }
   ],
   "source": [
    "# join - converts the list back to string\n",
    "\n",
    "list_1 = ['Afsan', 'loves', 'to', 'play', 'football']\n",
    "\"--->\".join(list_1)"
   ]
  },
  {
   "cell_type": "code",
   "execution_count": null,
   "metadata": {},
   "outputs": [],
   "source": [
    "# list \n",
    " \n",
    "# Creation of list\n",
    "\n",
    "# 1 . you already know \n",
    "\n",
    "fruits = ['apple' , 'mango' , 'banana']"
   ]
  },
  {
   "cell_type": "code",
   "execution_count": 80,
   "metadata": {},
   "outputs": [
    {
     "data": {
      "text/plain": [
       "['abc', 'xyz']"
      ]
     },
     "execution_count": 80,
     "metadata": {},
     "output_type": "execute_result"
    }
   ],
   "source": [
    "# 2. split\n",
    "\n",
    "a = 'abc xyz'\n",
    "a.split()"
   ]
  },
  {
   "cell_type": "code",
   "execution_count": 82,
   "metadata": {},
   "outputs": [
    {
     "data": {
      "text/plain": [
       "['a', 'f', 's', 'a', 'a', 'n']"
      ]
     },
     "execution_count": 82,
     "metadata": {},
     "output_type": "execute_result"
    }
   ],
   "source": [
    "# 3. type casting\n",
    "\n",
    "a = (1,2,3,4)\n",
    "b = 'afsaan'\n",
    "\n",
    "list(b)"
   ]
  },
  {
   "cell_type": "code",
   "execution_count": 83,
   "metadata": {},
   "outputs": [
    {
     "name": "stdout",
     "output_type": "stream",
     "text": [
      "please enter a list[1,2,3,4,5,6]\n",
      "[1, 2, 3, 4, 5, 6]\n"
     ]
    }
   ],
   "source": [
    "# 4. eval\n",
    "\n",
    "list1 = eval(input('please enter a list'))\n",
    "print(list1)"
   ]
  },
  {
   "cell_type": "code",
   "execution_count": null,
   "metadata": {},
   "outputs": [],
   "source": [
    "# Properties of list\n",
    "\n",
    "- seq data type\n",
    "- indexing and slicing\n",
    "- mutable \n",
    "- allows duplication\n",
    "- allows al data types\n",
    "- basic - slcing , indeixng , concatination , repetition , identity , memebrship"
   ]
  },
  {
   "cell_type": "code",
   "execution_count": 84,
   "metadata": {},
   "outputs": [
    {
     "name": "stdout",
     "output_type": "stream",
     "text": [
      "8\n"
     ]
    }
   ],
   "source": [
    "a = [1,2,3,4,5,6,7,8,9]\n",
    "print(a[-2])"
   ]
  },
  {
   "cell_type": "code",
   "execution_count": 85,
   "metadata": {},
   "outputs": [
    {
     "name": "stdout",
     "output_type": "stream",
     "text": [
      "[9, 7, 5, 3, 1]\n"
     ]
    }
   ],
   "source": [
    "a = [1,2,3,4,5,6,7,8,9]\n",
    "print(a[::-2])"
   ]
  },
  {
   "cell_type": "code",
   "execution_count": null,
   "metadata": {},
   "outputs": [],
   "source": [
    "# concatination\n",
    "\n",
    "op - +\n",
    "operands - both should be a list"
   ]
  },
  {
   "cell_type": "code",
   "execution_count": 91,
   "metadata": {},
   "outputs": [
    {
     "name": "stdout",
     "output_type": "stream",
     "text": [
      "[1, 2, 3, 3, 4, 5]\n"
     ]
    }
   ],
   "source": [
    "a = [1,2,3]\n",
    "b = [3,4,5]\n",
    "\n",
    "print(a + b)"
   ]
  },
  {
   "cell_type": "code",
   "execution_count": null,
   "metadata": {},
   "outputs": [],
   "source": [
    "# repeititon\n",
    "\n",
    "op - *\n",
    "operand - one should int and other should be list"
   ]
  },
  {
   "cell_type": "code",
   "execution_count": 92,
   "metadata": {},
   "outputs": [
    {
     "name": "stdout",
     "output_type": "stream",
     "text": [
      "[1, 2, 3, 4, 1, 2, 3, 4, 1, 2, 3, 4]\n"
     ]
    }
   ],
   "source": [
    "a= [1,2,3,4]\n",
    "b = 3\n",
    "\n",
    "print(a*3)"
   ]
  },
  {
   "cell_type": "code",
   "execution_count": null,
   "metadata": {},
   "outputs": [],
   "source": [
    "# Memebrship\n",
    "\n",
    "op - in, not in"
   ]
  },
  {
   "cell_type": "code",
   "execution_count": 93,
   "metadata": {},
   "outputs": [
    {
     "data": {
      "text/plain": [
       "True"
      ]
     },
     "execution_count": 93,
     "metadata": {},
     "output_type": "execute_result"
    }
   ],
   "source": [
    "4 in [1,2,3,4]"
   ]
  },
  {
   "cell_type": "code",
   "execution_count": null,
   "metadata": {},
   "outputs": [],
   "source": [
    "# indentity\n",
    "\n",
    "op - is , is not"
   ]
  },
  {
   "cell_type": "code",
   "execution_count": 95,
   "metadata": {},
   "outputs": [
    {
     "name": "stdout",
     "output_type": "stream",
     "text": [
      "True\n"
     ]
    }
   ],
   "source": [
    "a = [1,2,3]\n",
    "b = [1,2,3]\n",
    "\n",
    "print(a[0] is b[0])"
   ]
  },
  {
   "cell_type": "code",
   "execution_count": 97,
   "metadata": {},
   "outputs": [],
   "source": [
    "# nested list - list inside list \n",
    "\n",
    "a = [1,2,3,[1,2,3] , [5,6,7]]"
   ]
  },
  {
   "cell_type": "code",
   "execution_count": 98,
   "metadata": {},
   "outputs": [
    {
     "data": {
      "text/plain": [
       "6"
      ]
     },
     "execution_count": 98,
     "metadata": {},
     "output_type": "execute_result"
    }
   ],
   "source": [
    "a[-1][-2]"
   ]
  },
  {
   "cell_type": "code",
   "execution_count": 99,
   "metadata": {},
   "outputs": [
    {
     "data": {
      "text/plain": [
       "6"
      ]
     },
     "execution_count": 99,
     "metadata": {},
     "output_type": "execute_result"
    }
   ],
   "source": [
    "a[-1][1]"
   ]
  },
  {
   "cell_type": "code",
   "execution_count": 100,
   "metadata": {},
   "outputs": [
    {
     "data": {
      "text/plain": [
       "6"
      ]
     },
     "execution_count": 100,
     "metadata": {},
     "output_type": "execute_result"
    }
   ],
   "source": [
    "a[4][-2]"
   ]
  },
  {
   "cell_type": "code",
   "execution_count": 101,
   "metadata": {},
   "outputs": [],
   "source": [
    "a = [[1,2,4] , [5,6,7] , [8,[9,10,['a' , 'b']]]]"
   ]
  },
  {
   "cell_type": "code",
   "execution_count": 102,
   "metadata": {},
   "outputs": [
    {
     "data": {
      "text/plain": [
       "'b'"
      ]
     },
     "execution_count": 102,
     "metadata": {},
     "output_type": "execute_result"
    }
   ],
   "source": [
    "a[-1][-1][-1][-1]"
   ]
  },
  {
   "cell_type": "code",
   "execution_count": 103,
   "metadata": {},
   "outputs": [
    {
     "data": {
      "text/plain": [
       "'b'"
      ]
     },
     "execution_count": 103,
     "metadata": {},
     "output_type": "execute_result"
    }
   ],
   "source": [
    "a[2][1][2][1] "
   ]
  },
  {
   "cell_type": "code",
   "execution_count": 107,
   "metadata": {},
   "outputs": [
    {
     "data": {
      "text/plain": [
       "'b'"
      ]
     },
     "execution_count": 107,
     "metadata": {},
     "output_type": "execute_result"
    }
   ],
   "source": [
    "a[-1][1][2][-1]"
   ]
  },
  {
   "cell_type": "code",
   "execution_count": null,
   "metadata": {},
   "outputs": [],
   "source": []
  }
 ],
 "metadata": {
  "kernelspec": {
   "display_name": "Python 3",
   "language": "python",
   "name": "python3"
  },
  "language_info": {
   "codemirror_mode": {
    "name": "ipython",
    "version": 3
   },
   "file_extension": ".py",
   "mimetype": "text/x-python",
   "name": "python",
   "nbconvert_exporter": "python",
   "pygments_lexer": "ipython3",
   "version": "3.8.5"
  }
 },
 "nbformat": 4,
 "nbformat_minor": 4
}
