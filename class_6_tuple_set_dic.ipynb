{
 "cells": [
  {
   "cell_type": "markdown",
   "metadata": {},
   "source": [
    "#Tuple\n",
    "\n",
    "- all elements are kept insied  round brackets and elements re sep by commas"
   ]
  },
  {
   "cell_type": "code",
   "execution_count": 2,
   "metadata": {},
   "outputs": [
    {
     "name": "stdout",
     "output_type": "stream",
     "text": [
      "<class 'tuple'>\n"
     ]
    }
   ],
   "source": [
    "a = (1,2,3,4,5)\n",
    "print(type(a))"
   ]
  },
  {
   "cell_type": "code",
   "execution_count": 3,
   "metadata": {},
   "outputs": [
    {
     "name": "stdout",
     "output_type": "stream",
     "text": [
      "please enter a tuple(1,2,3,4)\n",
      "<class 'tuple'>\n"
     ]
    }
   ],
   "source": [
    "# Creation of a tuple\n",
    "\n",
    "# 1. you already know the element\n",
    "\n",
    "a = (10,20,30)\n",
    "\n",
    "# 2. user input\n",
    "\n",
    "tup = eval(input('please enter a tuple'))\n",
    "print(type(tup))"
   ]
  },
  {
   "cell_type": "code",
   "execution_count": 5,
   "metadata": {},
   "outputs": [
    {
     "name": "stdout",
     "output_type": "stream",
     "text": [
      "(1, 2, 3, 4, 5)\n",
      "('a', 'f', 's', 'a', 'a', 'n')\n"
     ]
    }
   ],
   "source": [
    "# 3. type casting\n",
    "\n",
    "a = [1,2,3,4,5]\n",
    "b = 'afsaan'\n",
    "\n",
    "# tuple()\n",
    "\n",
    "print(tuple(a))\n",
    "print(tuple(b))"
   ]
  },
  {
   "cell_type": "code",
   "execution_count": null,
   "metadata": {},
   "outputs": [],
   "source": [
    "# Properties of tuple\n",
    "\n",
    "- orderedc collection or seq data type\n",
    "- indexing an slicing\n",
    "- allow duplicate element\n",
    "- u can store any data type\n",
    "- immutable = assignment is not possible\n",
    "- basic - slicing , indexing , concatination , reptition , identity , Memebrship"
   ]
  },
  {
   "cell_type": "code",
   "execution_count": 6,
   "metadata": {},
   "outputs": [
    {
     "name": "stdout",
     "output_type": "stream",
     "text": [
      "5\n"
     ]
    }
   ],
   "source": [
    "a = (1,2,3,4,5)\n",
    "\n",
    "print(len(a))"
   ]
  },
  {
   "cell_type": "code",
   "execution_count": 7,
   "metadata": {},
   "outputs": [
    {
     "data": {
      "text/plain": [
       "5"
      ]
     },
     "execution_count": 7,
     "metadata": {},
     "output_type": "execute_result"
    }
   ],
   "source": [
    "a[-1] # indexing"
   ]
  },
  {
   "cell_type": "code",
   "execution_count": null,
   "metadata": {},
   "outputs": [],
   "source": [
    "a[::-1] #slicing"
   ]
  },
  {
   "cell_type": "code",
   "execution_count": 8,
   "metadata": {},
   "outputs": [
    {
     "name": "stdout",
     "output_type": "stream",
     "text": [
      "(1, 1, 1, 2, 2, 2)\n"
     ]
    }
   ],
   "source": [
    "# - allow duplicate element\n",
    "a = (1,1,1,2,2,2) \n",
    "print(a)"
   ]
  },
  {
   "cell_type": "code",
   "execution_count": 9,
   "metadata": {},
   "outputs": [
    {
     "name": "stdout",
     "output_type": "stream",
     "text": [
      "(1, 1.2, None, True, 'abc')\n"
     ]
    }
   ],
   "source": [
    "#  u can store any data type\n",
    "\n",
    "a = (1 , 1.2 , None , True , 'abc')\n",
    "print(a)"
   ]
  },
  {
   "cell_type": "code",
   "execution_count": 10,
   "metadata": {},
   "outputs": [
    {
     "ename": "TypeError",
     "evalue": "'tuple' object does not support item assignment",
     "output_type": "error",
     "traceback": [
      "\u001b[0;31m---------------------------------------------------------------------------\u001b[0m",
      "\u001b[0;31mTypeError\u001b[0m                                 Traceback (most recent call last)",
      "\u001b[0;32m<ipython-input-10-ffa562c80b01>\u001b[0m in \u001b[0;36m<module>\u001b[0;34m\u001b[0m\n\u001b[1;32m      2\u001b[0m \u001b[0;34m\u001b[0m\u001b[0m\n\u001b[1;32m      3\u001b[0m \u001b[0ma\u001b[0m \u001b[0;34m=\u001b[0m \u001b[0;34m(\u001b[0m\u001b[0;36m1\u001b[0m\u001b[0;34m,\u001b[0m\u001b[0;36m2\u001b[0m\u001b[0;34m,\u001b[0m\u001b[0;36m3\u001b[0m\u001b[0;34m,\u001b[0m\u001b[0;36m4\u001b[0m\u001b[0;34m)\u001b[0m\u001b[0;34m\u001b[0m\u001b[0;34m\u001b[0m\u001b[0m\n\u001b[0;32m----> 4\u001b[0;31m \u001b[0ma\u001b[0m\u001b[0;34m[\u001b[0m\u001b[0;36m0\u001b[0m\u001b[0;34m]\u001b[0m\u001b[0;34m=\u001b[0m\u001b[0;36m100\u001b[0m\u001b[0;34m\u001b[0m\u001b[0;34m\u001b[0m\u001b[0m\n\u001b[0m",
      "\u001b[0;31mTypeError\u001b[0m: 'tuple' object does not support item assignment"
     ]
    }
   ],
   "source": [
    "# immutable\n",
    "\n",
    "a = (1,2,3,4)\n",
    "a[0]=100"
   ]
  },
  {
   "cell_type": "code",
   "execution_count": 11,
   "metadata": {},
   "outputs": [
    {
     "name": "stdout",
     "output_type": "stream",
     "text": [
      "(1, 2, 3, 5, 6, 7)\n"
     ]
    }
   ],
   "source": [
    "# Concatination\n",
    "\n",
    "'''op - +\n",
    "operator - both should e tuple'''\n",
    "\n",
    "a = (1,2,3)\n",
    "b = (5,6,7)\n",
    "\n",
    "print(a+b)"
   ]
  },
  {
   "cell_type": "code",
   "execution_count": 12,
   "metadata": {},
   "outputs": [
    {
     "name": "stdout",
     "output_type": "stream",
     "text": [
      "(1, 2, 3, 1, 2, 3)\n"
     ]
    }
   ],
   "source": [
    "# repition\n",
    "\n",
    "'''op - *\n",
    "operator - one both should  tuple and other should be int'''\n",
    "\n",
    "a = (1,2,3)\n",
    "b = 2\n",
    "\n",
    "print(a*2)"
   ]
  },
  {
   "cell_type": "code",
   "execution_count": 15,
   "metadata": {},
   "outputs": [
    {
     "name": "stdout",
     "output_type": "stream",
     "text": [
      "140000973468272\n",
      "140000973468272\n",
      "False\n"
     ]
    }
   ],
   "source": [
    "# indeitiy\n",
    "\n",
    "a = (1,2,3,4,5)\n",
    "b = (1,2,3,4,5)\n",
    "\n",
    "print(id(a))\n",
    "print(id(b))\n",
    "\n",
    "print(a is not b)"
   ]
  },
  {
   "cell_type": "code",
   "execution_count": 16,
   "metadata": {},
   "outputs": [
    {
     "data": {
      "text/plain": [
       "True"
      ]
     },
     "execution_count": 16,
     "metadata": {},
     "output_type": "execute_result"
    }
   ],
   "source": [
    "# membership op\n",
    "\n",
    "1 in (5,6,7,1)"
   ]
  },
  {
   "cell_type": "code",
   "execution_count": 17,
   "metadata": {},
   "outputs": [
    {
     "data": {
      "text/plain": [
       "['__add__',\n",
       " '__class__',\n",
       " '__contains__',\n",
       " '__delattr__',\n",
       " '__dir__',\n",
       " '__doc__',\n",
       " '__eq__',\n",
       " '__format__',\n",
       " '__ge__',\n",
       " '__getattribute__',\n",
       " '__getitem__',\n",
       " '__getnewargs__',\n",
       " '__gt__',\n",
       " '__hash__',\n",
       " '__init__',\n",
       " '__init_subclass__',\n",
       " '__iter__',\n",
       " '__le__',\n",
       " '__len__',\n",
       " '__lt__',\n",
       " '__mul__',\n",
       " '__ne__',\n",
       " '__new__',\n",
       " '__reduce__',\n",
       " '__reduce_ex__',\n",
       " '__repr__',\n",
       " '__rmul__',\n",
       " '__setattr__',\n",
       " '__sizeof__',\n",
       " '__str__',\n",
       " '__subclasshook__',\n",
       " 'count',\n",
       " 'index']"
      ]
     },
     "execution_count": 17,
     "metadata": {},
     "output_type": "execute_result"
    }
   ],
   "source": [
    "# methods in tuple\n",
    "\n",
    "dir(tuple)"
   ]
  },
  {
   "cell_type": "code",
   "execution_count": 19,
   "metadata": {},
   "outputs": [
    {
     "data": {
      "text/plain": [
       "3"
      ]
     },
     "execution_count": 19,
     "metadata": {},
     "output_type": "execute_result"
    }
   ],
   "source": [
    "# 1. count\n",
    "\n",
    "a = (1,2,3,4,5,5,5)\n",
    "a.count(5)"
   ]
  },
  {
   "cell_type": "code",
   "execution_count": 20,
   "metadata": {},
   "outputs": [
    {
     "data": {
      "text/plain": [
       "4"
      ]
     },
     "execution_count": 20,
     "metadata": {},
     "output_type": "execute_result"
    }
   ],
   "source": [
    "# 2. index\n",
    "\n",
    "a = (1,2,3,4,5)\n",
    "a.index(5)"
   ]
  },
  {
   "cell_type": "code",
   "execution_count": 22,
   "metadata": {},
   "outputs": [
    {
     "name": "stdout",
     "output_type": "stream",
     "text": [
      "(1, 2, 3, 4, 5, 6)\n",
      "('afsaan', 1.2, None)\n"
     ]
    }
   ],
   "source": [
    "# Tuple packing and tuple unpacking\n",
    "\n",
    "'''1 tuple packing\n",
    "\n",
    "- packing or assigning muliplre values to varibale'''\n",
    "\n",
    "a = 1,2,3,4,5,6\n",
    "print(a)\n",
    "\n",
    "a = 'afsaan' , 1.2 , None\n",
    "print(a)"
   ]
  },
  {
   "cell_type": "code",
   "execution_count": 23,
   "metadata": {},
   "outputs": [
    {
     "name": "stdout",
     "output_type": "stream",
     "text": [
      "1\n",
      "2\n",
      "3\n",
      "4\n",
      "5\n"
     ]
    }
   ],
   "source": [
    "# tuple unpacking\n",
    "\n",
    "'''- fetcing individual valuye form tuple'''\n",
    "\n",
    "a ,b , c, d,e = (1,2,3,4,5)\n",
    "\n",
    "print(a)\n",
    "print(b)\n",
    "print(c)\n",
    "print(d)\n",
    "print(e)"
   ]
  },
  {
   "cell_type": "code",
   "execution_count": 27,
   "metadata": {},
   "outputs": [],
   "source": [
    "a ,b , c, d,e= (1,2,3,4,5)"
   ]
  },
  {
   "cell_type": "code",
   "execution_count": null,
   "metadata": {},
   "outputs": [],
   "source": [
    "# Note - number of varibales on lhs = number of elemenst on the rhs"
   ]
  },
  {
   "cell_type": "code",
   "execution_count": null,
   "metadata": {},
   "outputs": [],
   "source": [
    "# set\n",
    "\n",
    "# - anything written inside a curly brackets and elements are sep by commas are called as set"
   ]
  },
  {
   "cell_type": "code",
   "execution_count": 28,
   "metadata": {},
   "outputs": [
    {
     "name": "stdout",
     "output_type": "stream",
     "text": [
      "<class 'set'>\n"
     ]
    }
   ],
   "source": [
    "a = {1,2,3,4}\n",
    "print(type(a))"
   ]
  },
  {
   "cell_type": "code",
   "execution_count": null,
   "metadata": {},
   "outputs": [],
   "source": [
    "# properties\n",
    "\n",
    "- unique elements\n",
    "- it is not a ordered datatype . not seq data\n",
    "- not supooretd - slicnng and indexing\n",
    "- mutable"
   ]
  },
  {
   "cell_type": "code",
   "execution_count": 38,
   "metadata": {},
   "outputs": [
    {
     "name": "stdout",
     "output_type": "stream",
     "text": [
      "{5, 40, 10, 20, 30}\n"
     ]
    }
   ],
   "source": [
    "s = {10,20,30,40,5}\n",
    "print(s)"
   ]
  },
  {
   "cell_type": "code",
   "execution_count": 33,
   "metadata": {},
   "outputs": [
    {
     "ename": "TypeError",
     "evalue": "'set' object is not subscriptable",
     "output_type": "error",
     "traceback": [
      "\u001b[0;31m---------------------------------------------------------------------------\u001b[0m",
      "\u001b[0;31mTypeError\u001b[0m                                 Traceback (most recent call last)",
      "\u001b[0;32m<ipython-input-33-c9c96910e542>\u001b[0m in \u001b[0;36m<module>\u001b[0;34m\u001b[0m\n\u001b[0;32m----> 1\u001b[0;31m \u001b[0ms\u001b[0m\u001b[0;34m[\u001b[0m\u001b[0;36m0\u001b[0m\u001b[0;34m]\u001b[0m\u001b[0;34m\u001b[0m\u001b[0;34m\u001b[0m\u001b[0m\n\u001b[0m",
      "\u001b[0;31mTypeError\u001b[0m: 'set' object is not subscriptable"
     ]
    }
   ],
   "source": [
    "s[0]"
   ]
  },
  {
   "cell_type": "code",
   "execution_count": 34,
   "metadata": {},
   "outputs": [
    {
     "ename": "TypeError",
     "evalue": "'set' object is not subscriptable",
     "output_type": "error",
     "traceback": [
      "\u001b[0;31m---------------------------------------------------------------------------\u001b[0m",
      "\u001b[0;31mTypeError\u001b[0m                                 Traceback (most recent call last)",
      "\u001b[0;32m<ipython-input-34-c6b6797968c7>\u001b[0m in \u001b[0;36m<module>\u001b[0;34m\u001b[0m\n\u001b[0;32m----> 1\u001b[0;31m \u001b[0ms\u001b[0m\u001b[0;34m[\u001b[0m\u001b[0;34m:\u001b[0m\u001b[0;34m:\u001b[0m\u001b[0;36m1\u001b[0m\u001b[0;34m]\u001b[0m\u001b[0;34m\u001b[0m\u001b[0;34m\u001b[0m\u001b[0m\n\u001b[0m",
      "\u001b[0;31mTypeError\u001b[0m: 'set' object is not subscriptable"
     ]
    }
   ],
   "source": [
    "s[::1]"
   ]
  },
  {
   "cell_type": "code",
   "execution_count": 35,
   "metadata": {},
   "outputs": [
    {
     "name": "stdout",
     "output_type": "stream",
     "text": [
      "{1, 2, 3, 4}\n"
     ]
    }
   ],
   "source": [
    "a = {1,2,3,4,1,1,2,2}\n",
    "print(a)"
   ]
  },
  {
   "cell_type": "code",
   "execution_count": 36,
   "metadata": {},
   "outputs": [
    {
     "name": "stdout",
     "output_type": "stream",
     "text": [
      "{0, 1, 'abc'}\n"
     ]
    }
   ],
   "source": [
    "a = {1,1,0,False,True , 'abc', False , 0}\n",
    "print(a)"
   ]
  },
  {
   "cell_type": "code",
   "execution_count": null,
   "metadata": {},
   "outputs": [],
   "source": [
    "bool\n",
    "True\n",
    "False"
   ]
  },
  {
   "cell_type": "code",
   "execution_count": 39,
   "metadata": {},
   "outputs": [
    {
     "ename": "NameError",
     "evalue": "name 'true' is not defined",
     "output_type": "error",
     "traceback": [
      "\u001b[0;31m---------------------------------------------------------------------------\u001b[0m",
      "\u001b[0;31mNameError\u001b[0m                                 Traceback (most recent call last)",
      "\u001b[0;32m<ipython-input-39-724ba28f4a9a>\u001b[0m in \u001b[0;36m<module>\u001b[0;34m\u001b[0m\n\u001b[0;32m----> 1\u001b[0;31m \u001b[0mtrue\u001b[0m\u001b[0;34m\u001b[0m\u001b[0;34m\u001b[0m\u001b[0m\n\u001b[0m",
      "\u001b[0;31mNameError\u001b[0m: name 'true' is not defined"
     ]
    }
   ],
   "source": [
    "'true'"
   ]
  },
  {
   "cell_type": "markdown",
   "metadata": {},
   "source": [
    "# Dictionary"
   ]
  },
  {
   "cell_type": "code",
   "execution_count": 40,
   "metadata": {},
   "outputs": [
    {
     "name": "stdout",
     "output_type": "stream",
     "text": [
      "Afsan\n",
      "24\n",
      "240000\n"
     ]
    }
   ],
   "source": [
    "# name , age , salary\n",
    "\n",
    "a = ['Afsan' , 24 , 240000]\n",
    "\n",
    "print(a[0])\n",
    "print(a[1])\n",
    "print(a[2])"
   ]
  },
  {
   "cell_type": "code",
   "execution_count": null,
   "metadata": {},
   "outputs": [],
   "source": [
    "a = ['Afsan' , 24 , 24]\n",
    "\n",
    "print(a[0])\n",
    "print(a[1])\n",
    "print(a[2])"
   ]
  },
  {
   "cell_type": "code",
   "execution_count": null,
   "metadata": {},
   "outputs": [],
   "source": [
    "a = [24 , 24 ,'Afsan']\n",
    "\n",
    "print(a[0])\n",
    "print(a[1])\n",
    "print(a[2])"
   ]
  },
  {
   "cell_type": "code",
   "execution_count": 41,
   "metadata": {},
   "outputs": [
    {
     "name": "stdout",
     "output_type": "stream",
     "text": [
      "Afsan\n",
      "24\n",
      "24000\n"
     ]
    }
   ],
   "source": [
    "# Dic is a data type that is used to represent a astructure data\n",
    "\n",
    "employee_data = {'name':'Afsan' , 'age':24 , 'salary':24000}\n",
    "\n",
    "print(employee_data['name'])\n",
    "print(employee_data['age'])\n",
    "print(employee_data['salary'])"
   ]
  },
  {
   "cell_type": "code",
   "execution_count": 42,
   "metadata": {},
   "outputs": [
    {
     "name": "stdout",
     "output_type": "stream",
     "text": [
      "Afsan\n",
      "24\n",
      "24\n"
     ]
    }
   ],
   "source": [
    "employee_data = {'name':'Afsan' , 'age':24 , 'salary':24}\n",
    "\n",
    "print(employee_data['name'])\n",
    "print(employee_data['age'])\n",
    "print(employee_data['salary'])"
   ]
  },
  {
   "cell_type": "code",
   "execution_count": 43,
   "metadata": {},
   "outputs": [
    {
     "name": "stdout",
     "output_type": "stream",
     "text": [
      "Afsan\n",
      "24\n",
      "24\n"
     ]
    }
   ],
   "source": [
    "employee_data = {'age':24 , 'salary':24 , 'name':'Afsan' }\n",
    "\n",
    "print(employee_data['name'])\n",
    "print(employee_data['age'])\n",
    "print(employee_data['salary'])"
   ]
  },
  {
   "cell_type": "code",
   "execution_count": 47,
   "metadata": {},
   "outputs": [
    {
     "name": "stdout",
     "output_type": "stream",
     "text": [
      "{'emp1': {'name': 'afsaan', 'age': 23, 'salary': '24k'}, 'emp2': {'name': 'rahul', 'age': 24, 'salary': '25k'}}\n"
     ]
    }
   ],
   "source": [
    "# how to create a dic\n",
    "\n",
    "# 1 . if you already know the element\n",
    "\n",
    "emp_data = {'emp1':{'name':'afsaan' , 'age':23 , 'salary':'24k'} , \n",
    "           'emp2':{'name':'rahul' , 'age':24 , 'salary':'25k'}}\n",
    "\n",
    "print(emp_data)"
   ]
  },
  {
   "cell_type": "code",
   "execution_count": null,
   "metadata": {},
   "outputs": [],
   "source": [
    "# 2 . taking a user input"
   ]
  },
  {
   "cell_type": "code",
   "execution_count": 48,
   "metadata": {},
   "outputs": [
    {
     "name": "stdout",
     "output_type": "stream",
     "text": [
      "{1:2}\n",
      "{1: 2}\n"
     ]
    }
   ],
   "source": [
    "a = eval(input())\n",
    "print(a)"
   ]
  },
  {
   "cell_type": "code",
   "execution_count": null,
   "metadata": {},
   "outputs": [],
   "source": [
    "3 - using type casting -\n",
    "\n",
    "\n",
    "'''dic functons takes a seq of inner seq where inner seq will have a pair of values and out of that the \n",
    "first valye beacome s the key and second vcalue becomes the value'''"
   ]
  },
  {
   "cell_type": "code",
   "execution_count": 51,
   "metadata": {},
   "outputs": [
    {
     "data": {
      "text/plain": [
       "{1: 2, 2: 3, 3: 4, 4: 5}"
      ]
     },
     "execution_count": 51,
     "metadata": {},
     "output_type": "execute_result"
    }
   ],
   "source": [
    "a = [(1,2) , [2,3] , [3,4] , [4,5]]\n",
    "dict(a)"
   ]
  },
  {
   "cell_type": "code",
   "execution_count": null,
   "metadata": {},
   "outputs": [],
   "source": [
    "zip function\n",
    "\n",
    " - seq of inner seq\n",
    "    \n",
    "syntax = zip(iterable1 , iterable1)"
   ]
  },
  {
   "cell_type": "code",
   "execution_count": 62,
   "metadata": {},
   "outputs": [
    {
     "ename": "ValueError",
     "evalue": "dictionary update sequence element #0 has length 3; 2 is required",
     "output_type": "error",
     "traceback": [
      "\u001b[0;31m---------------------------------------------------------------------------\u001b[0m",
      "\u001b[0;31mValueError\u001b[0m                                Traceback (most recent call last)",
      "\u001b[0;32m<ipython-input-62-6e7841b8e6e8>\u001b[0m in \u001b[0;36m<module>\u001b[0;34m\u001b[0m\n\u001b[0;32m----> 1\u001b[0;31m \u001b[0mdict\u001b[0m\u001b[0;34m(\u001b[0m\u001b[0mzip\u001b[0m\u001b[0;34m(\u001b[0m\u001b[0;34m[\u001b[0m\u001b[0;36m1\u001b[0m\u001b[0;34m,\u001b[0m\u001b[0;36m2\u001b[0m\u001b[0;34m,\u001b[0m\u001b[0;36m3\u001b[0m \u001b[0;34m,\u001b[0m \u001b[0;36m4\u001b[0m\u001b[0;34m]\u001b[0m \u001b[0;34m,\u001b[0m \u001b[0;34m[\u001b[0m\u001b[0;34m'a'\u001b[0m \u001b[0;34m,\u001b[0m \u001b[0;34m'b'\u001b[0m \u001b[0;34m,\u001b[0m \u001b[0;34m'c'\u001b[0m \u001b[0;34m]\u001b[0m \u001b[0;34m,\u001b[0m \u001b[0;34m[\u001b[0m\u001b[0;34m'1'\u001b[0m\u001b[0;34m,\u001b[0m\u001b[0;34m'2'\u001b[0m \u001b[0;34m,\u001b[0m \u001b[0;34m'3'\u001b[0m\u001b[0;34m]\u001b[0m\u001b[0;34m)\u001b[0m\u001b[0;34m)\u001b[0m\u001b[0;34m\u001b[0m\u001b[0;34m\u001b[0m\u001b[0m\n\u001b[0m",
      "\u001b[0;31mValueError\u001b[0m: dictionary update sequence element #0 has length 3; 2 is required"
     ]
    }
   ],
   "source": [
    "dict(zip([1,2,3 , 4] , ['a' , 'b' , 'c' ] , ['1','2' , '3']))"
   ]
  },
  {
   "cell_type": "code",
   "execution_count": null,
   "metadata": {},
   "outputs": [],
   "source": [
    "# properties of dic\n",
    "\n",
    "1 . it is a collection of key value pair\n",
    "2 - a key:value pair is called as item\n",
    "3 - items are sep by commas\n",
    "4 - key and value are sep by :\n",
    "5 - key cannot be duplicated but values can be duplicated\n",
    "6 - key cannot be a mutable objects\n",
    "7 - values can be any data type\n",
    "8 - itesm are enclosed in curly brackets\n",
    "9 - it is not a seq data type - indexing , slicing , concatnation , repeition\n",
    "10 - memebership are supported but only on key and return True if key is present otherwise false\n",
    "11 - identity\n",
    "12 - dic is mutable - > object can be changed"
   ]
  },
  {
   "cell_type": "code",
   "execution_count": 65,
   "metadata": {},
   "outputs": [
    {
     "name": "stdout",
     "output_type": "stream",
     "text": [
      "{'emp1': {'name': 'afsaan', 'age': 23, 'salary': '24k'}, 'emp2': {'name': 'rahul', 'age': 24, 'salary': '25k'}}\n"
     ]
    }
   ],
   "source": [
    "# 5 - key cannot be duplicated but values can be duplicated\n",
    "\n",
    "\n",
    "emp_data = {'emp1':{'name':'afsaan' , 'age':23 , 'salary':'24k'} , \n",
    "           'emp2':{'name':'rahul' , 'age':24 , 'salary':'25k'},\n",
    "           'emp2':{'name':'rahul' , 'age':24 , 'salary':'25k'}}\n",
    "\n",
    "print(emp_data)"
   ]
  },
  {
   "cell_type": "code",
   "execution_count": 66,
   "metadata": {},
   "outputs": [
    {
     "ename": "TypeError",
     "evalue": "unhashable type: 'list'",
     "output_type": "error",
     "traceback": [
      "\u001b[0;31m---------------------------------------------------------------------------\u001b[0m",
      "\u001b[0;31mTypeError\u001b[0m                                 Traceback (most recent call last)",
      "\u001b[0;32m<ipython-input-66-9f558f1c4829>\u001b[0m in \u001b[0;36m<module>\u001b[0;34m\u001b[0m\n\u001b[1;32m      1\u001b[0m \u001b[0;31m# 6 - key cannot be a mutable objects\u001b[0m\u001b[0;34m\u001b[0m\u001b[0;34m\u001b[0m\u001b[0;34m\u001b[0m\u001b[0m\n\u001b[1;32m      2\u001b[0m \u001b[0;34m\u001b[0m\u001b[0m\n\u001b[0;32m----> 3\u001b[0;31m emp_data = {['emp1']:{'name':'afsaan' , 'age':23 , 'salary':'24k'} , \n\u001b[0m\u001b[1;32m      4\u001b[0m            \u001b[0;34m'emp2'\u001b[0m\u001b[0;34m:\u001b[0m\u001b[0;34m{\u001b[0m\u001b[0;34m'name'\u001b[0m\u001b[0;34m:\u001b[0m\u001b[0;34m'rahul'\u001b[0m \u001b[0;34m,\u001b[0m \u001b[0;34m'age'\u001b[0m\u001b[0;34m:\u001b[0m\u001b[0;36m24\u001b[0m \u001b[0;34m,\u001b[0m \u001b[0;34m'salary'\u001b[0m\u001b[0;34m:\u001b[0m\u001b[0;34m'25k'\u001b[0m\u001b[0;34m}\u001b[0m\u001b[0;34m,\u001b[0m\u001b[0;34m\u001b[0m\u001b[0;34m\u001b[0m\u001b[0m\n\u001b[1;32m      5\u001b[0m            'emp2':{'name':'rahul' , 'age':24 , 'salary':'25k'}}\n",
      "\u001b[0;31mTypeError\u001b[0m: unhashable type: 'list'"
     ]
    }
   ],
   "source": [
    "# 6 - key cannot be a mutable objects\n",
    "\n",
    "emp_data = {['emp1']:{'name':'afsaan' , 'age':23 , 'salary':'24k'} , \n",
    "           'emp2':{'name':'rahul' , 'age':24 , 'salary':'25k'},\n",
    "\n",
    "            'emp2':{'name':'rahul' , 'age':24 , 'salary':'25k'}}"
   ]
  },
  {
   "cell_type": "code",
   "execution_count": 83,
   "metadata": {},
   "outputs": [
    {
     "name": "stdout",
     "output_type": "stream",
     "text": [
      "{'emp1': {'name': 'afsaan', 'age': 23, 'salary': '24k'}, 'emp2': ({'name': 'rahul', 'age': 24, 'salary': '25k'},)}\n"
     ]
    }
   ],
   "source": [
    "# 7 - values can be any data type\n",
    "\n",
    "emp_data = {'emp1':{'name':'afsaan' , 'age':23 , 'salary':'24k'} , \n",
    "           'emp2':[{'name':'rahul' , 'age':24 , 'salary':'25k'}],\n",
    "           'emp2':({'name':'rahul' , 'age':24 , 'salary':'25k'},)}\n",
    "print(emp_data)"
   ]
  },
  {
   "cell_type": "code",
   "execution_count": 74,
   "metadata": {},
   "outputs": [
    {
     "data": {
      "text/plain": [
       "'afsaan'"
      ]
     },
     "execution_count": 74,
     "metadata": {},
     "output_type": "execute_result"
    }
   ],
   "source": [
    "emp_data = {'emp1':{'name':'afsaan' , 'age':23 , 'salary':'24k'} , \n",
    "           'emp2':{'name':'rahul' , 'age':24 , 'salary':'25k'},\n",
    "           'emp2':[{'name':'rahul' , 'age':24 , 'salary':'25k'}]}\n",
    "\n",
    "\n",
    "emp_data['emp1']['name']"
   ]
  },
  {
   "cell_type": "code",
   "execution_count": 102,
   "metadata": {},
   "outputs": [
    {
     "data": {
      "text/plain": [
       "False"
      ]
     },
     "execution_count": 102,
     "metadata": {},
     "output_type": "execute_result"
    }
   ],
   "source": [
    "# 10 - memebership are supported but only on key and return True if key is present otherwise false\n",
    "\n",
    "emp_data = {'emp1':{'name':'afsaan' , 'age':23 , 'salary':'24k'} , \n",
    "           'emp2':[{'name':'rahul' , 'age':24 , 'salary':'25k'}],\n",
    "           'emp2':({'name':'rahul' , 'age':24 , 'salary':'25k'},)}\n",
    "\n",
    "'name' in emp_data"
   ]
  },
  {
   "cell_type": "code",
   "execution_count": 101,
   "metadata": {},
   "outputs": [
    {
     "data": {
      "text/plain": [
       "{'emp1': {'name': 'afsaan', 'age': 23, 'salary': '24k'},\n",
       " 'emp2': ({'name': 'rahul', 'age': 24, 'salary': '25k'},)}"
      ]
     },
     "execution_count": 101,
     "metadata": {},
     "output_type": "execute_result"
    }
   ],
   "source": [
    "emp_data"
   ]
  },
  {
   "cell_type": "code",
   "execution_count": 106,
   "metadata": {},
   "outputs": [
    {
     "data": {
      "text/plain": [
       "False"
      ]
     },
     "execution_count": 106,
     "metadata": {},
     "output_type": "execute_result"
    }
   ],
   "source": [
    "'afsaan' in emp_data['emp1']['name']"
   ]
  },
  {
   "cell_type": "code",
   "execution_count": 107,
   "metadata": {},
   "outputs": [
    {
     "data": {
      "text/plain": [
       "False"
      ]
     },
     "execution_count": 107,
     "metadata": {},
     "output_type": "execute_result"
    }
   ],
   "source": [
    "'afsan' in [1,2,3,4][0]"
   ]
  },
  {
   "cell_type": "code",
   "execution_count": 108,
   "metadata": {},
   "outputs": [
    {
     "ename": "TypeError",
     "evalue": "argument of type 'int' is not iterable",
     "output_type": "error",
     "traceback": [
      "\u001b[0;31m---------------------------------------------------------------------------\u001b[0m",
      "\u001b[0;31mTypeError\u001b[0m                                 Traceback (most recent call last)",
      "\u001b[0;32m<ipython-input-108-7e465c2bf882>\u001b[0m in \u001b[0;36m<module>\u001b[0;34m\u001b[0m\n\u001b[0;32m----> 1\u001b[0;31m \u001b[0;34m'afsaan'\u001b[0m \u001b[0;32min\u001b[0m \u001b[0;36m1\u001b[0m\u001b[0;34m\u001b[0m\u001b[0;34m\u001b[0m\u001b[0m\n\u001b[0m",
      "\u001b[0;31mTypeError\u001b[0m: argument of type 'int' is not iterable"
     ]
    }
   ],
   "source": [
    "'afsaan' in 1"
   ]
  },
  {
   "cell_type": "code",
   "execution_count": 109,
   "metadata": {},
   "outputs": [],
   "source": [
    "# upate on dic\n",
    "\n",
    "\n",
    "emp_data = {'emp1':{'name':'afsaan' , 'age':23 , 'salary':'24k'} , \n",
    "           'emp2':[{'name':'rahul' , 'age':24 , 'salary':'25k'}]}"
   ]
  },
  {
   "cell_type": "code",
   "execution_count": 112,
   "metadata": {},
   "outputs": [
    {
     "data": {
      "text/plain": [
       "{'emp1': 100, 'emp2': [{'name': 'rahul', 'age': 24, 'salary': '25k'}]}"
      ]
     },
     "execution_count": 112,
     "metadata": {},
     "output_type": "execute_result"
    }
   ],
   "source": [
    "# if key is available\n",
    "emp_data['emp1'] = 100\n",
    "emp_data"
   ]
  },
  {
   "cell_type": "code",
   "execution_count": 113,
   "metadata": {},
   "outputs": [
    {
     "name": "stdout",
     "output_type": "stream",
     "text": [
      "{'emp1': {'name': 'afsaan', 'age': 23, 'salary': '24k'}, 'emp2': [{'name': 'rahul', 'age': 24, 'salary': '25k'}], 'emp_5': 100}\n"
     ]
    }
   ],
   "source": [
    "# if key is not available\n",
    "\n",
    "emp_data = {'emp1':{'name':'afsaan' , 'age':23 , 'salary':'24k'} , \n",
    "           'emp2':[{'name':'rahul' , 'age':24 , 'salary':'25k'}]}\n",
    "\n",
    "emp_data['emp_5'] = 100\n",
    "print(emp_data)"
   ]
  },
  {
   "cell_type": "code",
   "execution_count": 115,
   "metadata": {},
   "outputs": [
    {
     "data": {
      "text/plain": [
       "['__class__',\n",
       " '__contains__',\n",
       " '__delattr__',\n",
       " '__delitem__',\n",
       " '__dir__',\n",
       " '__doc__',\n",
       " '__eq__',\n",
       " '__format__',\n",
       " '__ge__',\n",
       " '__getattribute__',\n",
       " '__getitem__',\n",
       " '__gt__',\n",
       " '__hash__',\n",
       " '__init__',\n",
       " '__init_subclass__',\n",
       " '__iter__',\n",
       " '__le__',\n",
       " '__len__',\n",
       " '__lt__',\n",
       " '__ne__',\n",
       " '__new__',\n",
       " '__reduce__',\n",
       " '__reduce_ex__',\n",
       " '__repr__',\n",
       " '__reversed__',\n",
       " '__setattr__',\n",
       " '__setitem__',\n",
       " '__sizeof__',\n",
       " '__str__',\n",
       " '__subclasshook__',\n",
       " 'clear',\n",
       " 'copy',\n",
       " 'fromkeys',\n",
       " 'get',\n",
       " 'items',\n",
       " 'keys',\n",
       " 'pop',\n",
       " 'popitem',\n",
       " 'setdefault',\n",
       " 'update',\n",
       " 'values']"
      ]
     },
     "execution_count": 115,
     "metadata": {},
     "output_type": "execute_result"
    }
   ],
   "source": [
    "# Methods on dict\n",
    "\n",
    "dir(dict)"
   ]
  },
  {
   "cell_type": "code",
   "execution_count": null,
   "metadata": {},
   "outputs": [],
   "source": [
    "# methods to add and access the element from the dict\n",
    "\n",
    "1. get\n",
    "2. setdefault\n",
    "3. update"
   ]
  },
  {
   "cell_type": "code",
   "execution_count": 122,
   "metadata": {},
   "outputs": [
    {
     "data": {
      "text/plain": [
       "{'name': 'afsaan', 'age': 23, 'salary': '24k'}"
      ]
     },
     "execution_count": 122,
     "metadata": {},
     "output_type": "execute_result"
    }
   ],
   "source": [
    "'''1. get\n",
    "\n",
    "if key is present it returns the value , else deafult value'''\n",
    "\n",
    "# a,) if key is present\n",
    "\n",
    "emp_data = {'emp1':{'name':'afsaan' , 'age':23 , 'salary':'24k'} , \n",
    "           'emp2':[{'name':'rahul' , 'age':24 , 'salary':'25k'}]}\n",
    "\n",
    "\n",
    "emp_data.get('emp1')"
   ]
  },
  {
   "cell_type": "code",
   "execution_count": 123,
   "metadata": {},
   "outputs": [
    {
     "name": "stdout",
     "output_type": "stream",
     "text": [
      "key is not present\n"
     ]
    }
   ],
   "source": [
    "# b.) if key is not present\n",
    "\n",
    "print(emp_data.get('emp4')"
   ]
  },
  {
   "cell_type": "code",
   "execution_count": 125,
   "metadata": {},
   "outputs": [
    {
     "name": "stdout",
     "output_type": "stream",
     "text": [
      "not present\n"
     ]
    }
   ],
   "source": [
    "# you can customise the default message of your own choice\n",
    "\n",
    "print(emp_data.get('emp4' , 'not present'))"
   ]
  },
  {
   "cell_type": "code",
   "execution_count": 119,
   "metadata": {},
   "outputs": [
    {
     "data": {
      "text/plain": [
       "[{'name': 'rahul', 'age': 24, 'salary': '25k'}]"
      ]
     },
     "execution_count": 119,
     "metadata": {},
     "output_type": "execute_result"
    }
   ],
   "source": [
    "'''2 . setdefault\n",
    "\n",
    "insert the key with the value of the default if key is not in the dic , else return the value of the key'''\n",
    "\n",
    "# a,) if key is present\n",
    "\n",
    "emp_data = {'emp1':{'name':'afsaan' , 'age':23 , 'salary':'24k'} , \n",
    "           'emp2':[{'name':'rahul' , 'age':24 , 'salary':'25k'}]}\n",
    "\n",
    "\n",
    "emp_data.setdefault('emp2')"
   ]
  },
  {
   "cell_type": "code",
   "execution_count": 120,
   "metadata": {},
   "outputs": [
    {
     "name": "stdout",
     "output_type": "stream",
     "text": [
      "None\n"
     ]
    }
   ],
   "source": [
    "# b.) if key is not present\n",
    "\n",
    "print(emp_data.setdefault('emp4'))"
   ]
  },
  {
   "cell_type": "code",
   "execution_count": 126,
   "metadata": {},
   "outputs": [
    {
     "name": "stdout",
     "output_type": "stream",
     "text": [
      "default value\n"
     ]
    }
   ],
   "source": [
    "# ypu can customise the vlaue of the key\n",
    "print(emp_data.setdefault('emp4' , 'default value'))"
   ]
  },
  {
   "cell_type": "code",
   "execution_count": 127,
   "metadata": {},
   "outputs": [
    {
     "data": {
      "text/plain": [
       "{'emp1': {'name': 'afsaan', 'age': 23, 'salary': '24k'},\n",
       " 'emp2': [{'name': 'rahul', 'age': 24, 'salary': '25k'}],\n",
       " 'emp4': 'default value'}"
      ]
     },
     "execution_count": 127,
     "metadata": {},
     "output_type": "execute_result"
    }
   ],
   "source": [
    "emp_data"
   ]
  },
  {
   "cell_type": "code",
   "execution_count": 128,
   "metadata": {},
   "outputs": [],
   "source": [
    "# 3. update\n",
    "\n",
    "emp_data = {'emp1':{'name':'afsaan' , 'age':23 , 'salary':'24k'} , \n",
    "           'emp2':[{'name':'rahul' , 'age':24 , 'salary':'25k'}]}\n",
    "\n",
    "emp_data.update({'emp3':{'name':'abc'}})"
   ]
  },
  {
   "cell_type": "code",
   "execution_count": 129,
   "metadata": {},
   "outputs": [
    {
     "data": {
      "text/plain": [
       "{'emp1': {'name': 'afsaan', 'age': 23, 'salary': '24k'},\n",
       " 'emp2': [{'name': 'rahul', 'age': 24, 'salary': '25k'}],\n",
       " 'emp3': {'name': 'abc'}}"
      ]
     },
     "execution_count": 129,
     "metadata": {},
     "output_type": "execute_result"
    }
   ],
   "source": [
    "emp_data"
   ]
  },
  {
   "cell_type": "code",
   "execution_count": null,
   "metadata": {},
   "outputs": [],
   "source": [
    "# webisite\n",
    "\n",
    "hacker rank\n",
    "hacker earth\n",
    "https://www.geeksforgeeks.org/python-string-exercise/\n",
    "https://leetcode.com/\n",
    "    \n",
    "daily try 5 question\n",
    "\n",
    "30 days"
   ]
  }
 ],
 "metadata": {
  "kernelspec": {
   "display_name": "Python 3",
   "language": "python",
   "name": "python3"
  },
  "language_info": {
   "codemirror_mode": {
    "name": "ipython",
    "version": 3
   },
   "file_extension": ".py",
   "mimetype": "text/x-python",
   "name": "python",
   "nbconvert_exporter": "python",
   "pygments_lexer": "ipython3",
   "version": "3.8.5"
  }
 },
 "nbformat": 4,
 "nbformat_minor": 4
}
