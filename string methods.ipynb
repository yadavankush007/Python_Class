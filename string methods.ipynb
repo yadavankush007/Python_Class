{
 "cells": [
  {
   "cell_type": "code",
   "execution_count": null,
   "metadata": {},
   "outputs": [],
   "source": [
    "# propeties of string\n",
    "\n",
    "- sring is a seq data types - it allows +ve and -ve indexing\n",
    "- indexing , slicing , concatination , repetition , memebrship , identity\n",
    "- string is immutable - item assignment is not allowed"
   ]
  },
  {
   "cell_type": "code",
   "execution_count": 2,
   "metadata": {},
   "outputs": [
    {
     "name": "stdout",
     "output_type": "stream",
     "text": [
      "n\n",
      "n\n"
     ]
    }
   ],
   "source": [
    "# Indexing\n",
    "\n",
    "a = 'python'\n",
    "\n",
    "print(a[-1])\n",
    "print(a[len(a)-1])"
   ]
  },
  {
   "cell_type": "code",
   "execution_count": 4,
   "metadata": {},
   "outputs": [
    {
     "name": "stdout",
     "output_type": "stream",
     "text": [
      "nohtyp\n",
      "pto\n",
      "\n"
     ]
    }
   ],
   "source": [
    "a = 'python'\n",
    "\n",
    "print(a[::-1]) \n",
    "\n",
    "#pto\n",
    "print(a[::2])\n",
    "\n",
    "print(a[-1:-4:1])"
   ]
  },
  {
   "cell_type": "code",
   "execution_count": null,
   "metadata": {},
   "outputs": [],
   "source": [
    "Default values\n",
    "\n",
    "\n",
    "a[::]\n",
    "start - 0\n",
    "stop - len(str)\n",
    "step - 1\n",
    "\n",
    "when you put step as 1\n",
    "start = 0\n",
    "stop = len(a)-1\n",
    "\n",
    "\n",
    "when your step is -1\n",
    "start = -1\n",
    "stop = -len(str)-1"
   ]
  },
  {
   "cell_type": "code",
   "execution_count": 5,
   "metadata": {},
   "outputs": [
    {
     "data": {
      "text/plain": [
       "'n'"
      ]
     },
     "execution_count": 5,
     "metadata": {},
     "output_type": "execute_result"
    }
   ],
   "source": [
    "a[-1::]"
   ]
  },
  {
   "cell_type": "code",
   "execution_count": null,
   "metadata": {},
   "outputs": [],
   "source": [
    "3. Concatination on string\n",
    "\n",
    "op- +\n",
    "operand - both the operands should be a string type"
   ]
  },
  {
   "cell_type": "code",
   "execution_count": 7,
   "metadata": {},
   "outputs": [
    {
     "ename": "TypeError",
     "evalue": "can only concatenate str (not \"int\") to str",
     "output_type": "error",
     "traceback": [
      "\u001b[0;31m---------------------------------------------------------------------------\u001b[0m",
      "\u001b[0;31mTypeError\u001b[0m                                 Traceback (most recent call last)",
      "\u001b[0;32m<ipython-input-7-8c1c70bf0af7>\u001b[0m in \u001b[0;36m<module>\u001b[0;34m\u001b[0m\n\u001b[1;32m      3\u001b[0m \u001b[0mc\u001b[0m\u001b[0;34m=\u001b[0m \u001b[0;36m1\u001b[0m\u001b[0;34m\u001b[0m\u001b[0;34m\u001b[0m\u001b[0m\n\u001b[1;32m      4\u001b[0m \u001b[0;34m\u001b[0m\u001b[0m\n\u001b[0;32m----> 5\u001b[0;31m \u001b[0mprint\u001b[0m\u001b[0;34m(\u001b[0m\u001b[0ma\u001b[0m\u001b[0;34m+\u001b[0m\u001b[0mc\u001b[0m\u001b[0;34m)\u001b[0m\u001b[0;34m\u001b[0m\u001b[0;34m\u001b[0m\u001b[0m\n\u001b[0m",
      "\u001b[0;31mTypeError\u001b[0m: can only concatenate str (not \"int\") to str"
     ]
    }
   ],
   "source": [
    "a = 'afsan'\n",
    "b = 'python'\n",
    "c= 1\n",
    "\n",
    "print(a+c)"
   ]
  },
  {
   "cell_type": "code",
   "execution_count": 8,
   "metadata": {},
   "outputs": [
    {
     "data": {
      "text/plain": [
       "'nohtyp'"
      ]
     },
     "execution_count": 8,
     "metadata": {},
     "output_type": "execute_result"
    }
   ],
   "source": [
    "a = 'python'\n",
    "\n",
    "a[-1:-len(a)-1:-1]"
   ]
  },
  {
   "cell_type": "code",
   "execution_count": 9,
   "metadata": {},
   "outputs": [
    {
     "ename": "SyntaxError",
     "evalue": "invalid syntax (<ipython-input-9-49ee4d295ed0>, line 3)",
     "output_type": "error",
     "traceback": [
      "\u001b[0;36m  File \u001b[0;32m\"<ipython-input-9-49ee4d295ed0>\"\u001b[0;36m, line \u001b[0;32m3\u001b[0m\n\u001b[0;31m    op - *\u001b[0m\n\u001b[0m         ^\u001b[0m\n\u001b[0;31mSyntaxError\u001b[0m\u001b[0;31m:\u001b[0m invalid syntax\n"
     ]
    }
   ],
   "source": [
    "4 . repetiton\n",
    "\n",
    "op - *\n",
    "\n",
    "operands - one should be a string and one should be int"
   ]
  },
  {
   "cell_type": "code",
   "execution_count": 12,
   "metadata": {},
   "outputs": [
    {
     "name": "stdout",
     "output_type": "stream",
     "text": [
      "pythonpythonpython\n"
     ]
    }
   ],
   "source": [
    "a = 'python'\n",
    "b = 3\n",
    "\n",
    "print(a*b)"
   ]
  },
  {
   "cell_type": "code",
   "execution_count": 14,
   "metadata": {},
   "outputs": [
    {
     "ename": "TypeError",
     "evalue": "can't multiply sequence by non-int of type 'NoneType'",
     "output_type": "error",
     "traceback": [
      "\u001b[0;31m---------------------------------------------------------------------------\u001b[0m",
      "\u001b[0;31mTypeError\u001b[0m                                 Traceback (most recent call last)",
      "\u001b[0;32m<ipython-input-14-e2fffbe893b3>\u001b[0m in \u001b[0;36m<module>\u001b[0;34m\u001b[0m\n\u001b[1;32m      2\u001b[0m \u001b[0mb\u001b[0m \u001b[0;34m=\u001b[0m \u001b[0;32mNone\u001b[0m\u001b[0;34m\u001b[0m\u001b[0;34m\u001b[0m\u001b[0m\n\u001b[1;32m      3\u001b[0m \u001b[0;34m\u001b[0m\u001b[0m\n\u001b[0;32m----> 4\u001b[0;31m \u001b[0mprint\u001b[0m\u001b[0;34m(\u001b[0m\u001b[0ma\u001b[0m\u001b[0;34m*\u001b[0m\u001b[0mb\u001b[0m\u001b[0;34m)\u001b[0m\u001b[0;34m\u001b[0m\u001b[0;34m\u001b[0m\u001b[0m\n\u001b[0m",
      "\u001b[0;31mTypeError\u001b[0m: can't multiply sequence by non-int of type 'NoneType'"
     ]
    }
   ],
   "source": [
    "a = 'python'\n",
    "b = None\n",
    "\n",
    "print(a*b)"
   ]
  },
  {
   "cell_type": "code",
   "execution_count": null,
   "metadata": {},
   "outputs": [],
   "source": [
    "4. Identity op\n",
    "\n",
    "op - is, is not\n",
    "- is alawys return the value in form of Bool value"
   ]
  },
  {
   "cell_type": "code",
   "execution_count": 20,
   "metadata": {},
   "outputs": [
    {
     "name": "stdout",
     "output_type": "stream",
     "text": [
      "139651007723440\n",
      "139651007723184\n",
      "True\n"
     ]
    }
   ],
   "source": [
    "a = 'python$'\n",
    "b = 'python$'\n",
    "print(id(a))\n",
    "print(id(b))\n",
    "print(a is not b)"
   ]
  },
  {
   "cell_type": "code",
   "execution_count": null,
   "metadata": {},
   "outputs": [],
   "source": [
    "A-z , a-z , 0-9 , _"
   ]
  },
  {
   "cell_type": "code",
   "execution_count": null,
   "metadata": {},
   "outputs": [],
   "source": [
    "5 . Membership op\n",
    "\n",
    "op - in , not in\n",
    "- returns true and False"
   ]
  },
  {
   "cell_type": "code",
   "execution_count": 24,
   "metadata": {},
   "outputs": [
    {
     "name": "stdout",
     "output_type": "stream",
     "text": [
      "True\n"
     ]
    }
   ],
   "source": [
    "a = 'lionel messi'\n",
    "print('elm' not in a)"
   ]
  },
  {
   "cell_type": "code",
   "execution_count": 25,
   "metadata": {},
   "outputs": [
    {
     "name": "stdout",
     "output_type": "stream",
     "text": [
      "['__add__', '__class__', '__contains__', '__delattr__', '__dir__', '__doc__', '__eq__', '__format__', '__ge__', '__getattribute__', '__getitem__', '__getnewargs__', '__gt__', '__hash__', '__init__', '__init_subclass__', '__iter__', '__le__', '__len__', '__lt__', '__mod__', '__mul__', '__ne__', '__new__', '__reduce__', '__reduce_ex__', '__repr__', '__rmod__', '__rmul__', '__setattr__', '__sizeof__', '__str__', '__subclasshook__', 'capitalize', 'casefold', 'center', 'count', 'encode', 'endswith', 'expandtabs', 'find', 'format', 'format_map', 'index', 'isalnum', 'isalpha', 'isascii', 'isdecimal', 'isdigit', 'isidentifier', 'islower', 'isnumeric', 'isprintable', 'isspace', 'istitle', 'isupper', 'join', 'ljust', 'lower', 'lstrip', 'maketrans', 'partition', 'replace', 'rfind', 'rindex', 'rjust', 'rpartition', 'rsplit', 'rstrip', 'split', 'splitlines', 'startswith', 'strip', 'swapcase', 'title', 'translate', 'upper', 'zfill']\n"
     ]
    }
   ],
   "source": [
    "# string methods\n",
    "\n",
    "print(dir(str))"
   ]
  },
  {
   "cell_type": "code",
   "execution_count": 33,
   "metadata": {},
   "outputs": [
    {
     "name": "stdout",
     "output_type": "stream",
     "text": [
      "This is a python class0\n",
      "THIS IS A PYTHON CLASS0\n",
      "this is a python class0\n",
      "THIS iS A PYTHON CLASS0\n",
      "This Is A Python Class0\n"
     ]
    }
   ],
   "source": [
    "s = 'this Is a python class0'\n",
    "\n",
    "print(s.capitalize())\n",
    "\n",
    "print(s.upper())\n",
    "\n",
    "print(s.lower())\n",
    "\n",
    "print(s.swapcase())\n",
    "\n",
    "print(s.title())"
   ]
  },
  {
   "cell_type": "code",
   "execution_count": 42,
   "metadata": {},
   "outputs": [
    {
     "data": {
      "text/plain": [
       "False"
      ]
     },
     "execution_count": 42,
     "metadata": {},
     "output_type": "execute_result"
    }
   ],
   "source": [
    "# statswith , endswith   --  l to R\n",
    "\n",
    "s = 'hello world'\n",
    "s.startswith('l',2)\n",
    "\n",
    "\n",
    "print(s.endswith('he' ,6,0))"
   ]
  },
  {
   "cell_type": "code",
   "execution_count": 47,
   "metadata": {},
   "outputs": [
    {
     "data": {
      "text/plain": [
       "False"
      ]
     },
     "execution_count": 47,
     "metadata": {},
     "output_type": "execute_result"
    }
   ],
   "source": [
    "s.endswith('ow' ,-1,-5)"
   ]
  },
  {
   "cell_type": "code",
   "execution_count": 52,
   "metadata": {},
   "outputs": [
    {
     "name": "stdout",
     "output_type": "stream",
     "text": [
      "True\n",
      "True\n",
      "False\n",
      "True\n",
      "------------------------------------------------\n",
      "True\n",
      "False\n",
      "False\n",
      "False\n",
      "------------------------------------------------\n",
      "False\n",
      "False\n",
      "False\n",
      "True\n",
      "------------------------------------------------\n",
      "True\n",
      "False\n",
      "False\n",
      "False\n"
     ]
    }
   ],
   "source": [
    "s1= 'abc'\n",
    "s2 = '123abc'\n",
    "s3 = '*'\n",
    "s4 = '112'\n",
    "\n",
    "# isalnum  - aphbets , number , alpnumeric\n",
    "\n",
    "print(s1.isalnum()) # True\n",
    "print(s2.isalnum()) # True\n",
    "print(s3.isalnum()) # False\n",
    "print(s4.isalnum()) # True\n",
    "\n",
    "print('------------------------------------------------')\n",
    "# isaplha - true if all char are aplha\n",
    "print(s1.isalpha()) # True\n",
    "print(s2.isalpha()) # False\n",
    "print(s3.isalpha()) # False\n",
    "print(s4.isalpha()) # False\n",
    "\n",
    "\n",
    "print('------------------------------------------------')\n",
    "# isnumeric - true if all char are numeric\n",
    "print(s1.isnumeric()) # False\n",
    "print(s2.isnumeric()) # False\n",
    "print(s3.isnumeric()) # False\n",
    "print(s4.isnumeric()) # True\n",
    "\n",
    "s1= 'abc'\n",
    "s2 = '123abc'\n",
    "s3 = '*'\n",
    "s4 = '112'\n",
    "\n",
    "print('------------------------------------------------')\n",
    "# isidentifier - true if string follows all the rules for identifiers\n",
    "print(s1.isidentifier()) # True\n",
    "print(s2.isidentifier()) # False\n",
    "print(s3.isidentifier()) # False\n",
    "print(s4.isidentifier()) # False"
   ]
  },
  {
   "cell_type": "code",
   "execution_count": null,
   "metadata": {},
   "outputs": [],
   "source": [
    "identifiers\n",
    "\n",
    "- its a rule for naming vairbale , fucntion , class\n",
    "\n",
    "Rules\n",
    "\n",
    "- identiferis can contain anything of A_Z , a-z , 0-9 , _\n",
    "- it should not start with numbers\n",
    "- it is case sensitive\n",
    "- it can be of any length\n",
    "- it should not be a keyword ( reserved words )"
   ]
  },
  {
   "cell_type": "code",
   "execution_count": 53,
   "metadata": {},
   "outputs": [],
   "source": [
    "abc09 = 10"
   ]
  },
  {
   "cell_type": "code",
   "execution_count": 54,
   "metadata": {},
   "outputs": [
    {
     "ename": "SyntaxError",
     "evalue": "invalid syntax (<ipython-input-54-f0fa99b82a33>, line 1)",
     "output_type": "error",
     "traceback": [
      "\u001b[0;36m  File \u001b[0;32m\"<ipython-input-54-f0fa99b82a33>\"\u001b[0;36m, line \u001b[0;32m1\u001b[0m\n\u001b[0;31m    0abc09 = 10\u001b[0m\n\u001b[0m     ^\u001b[0m\n\u001b[0;31mSyntaxError\u001b[0m\u001b[0;31m:\u001b[0m invalid syntax\n"
     ]
    }
   ],
   "source": [
    "0abc09 = 10"
   ]
  },
  {
   "cell_type": "code",
   "execution_count": 57,
   "metadata": {},
   "outputs": [],
   "source": [
    "aaaaaaaaaaaaaaaaaaaaaaaaaaaaaaaaaaaaaaaaaaaaaaaaaaaaaaaaaaaa = 10"
   ]
  },
  {
   "cell_type": "code",
   "execution_count": 60,
   "metadata": {},
   "outputs": [
    {
     "ename": "SyntaxError",
     "evalue": "invalid syntax (<ipython-input-60-00ca6ea7aa20>, line 1)",
     "output_type": "error",
     "traceback": [
      "\u001b[0;36m  File \u001b[0;32m\"<ipython-input-60-00ca6ea7aa20>\"\u001b[0;36m, line \u001b[0;32m1\u001b[0m\n\u001b[0;31m    for = 10\u001b[0m\n\u001b[0m        ^\u001b[0m\n\u001b[0;31mSyntaxError\u001b[0m\u001b[0;31m:\u001b[0m invalid syntax\n"
     ]
    }
   ],
   "source": [
    "for = 10\n",
    "if = 20\n",
    "else = 20"
   ]
  },
  {
   "cell_type": "markdown",
   "metadata": {},
   "source": [
    "abc    - valid\n",
    "Abc10  - valid\n",
    "_abc - valid\n",
    "abc$123 - invalid\n",
    "if - invalid\n",
    "If - valid\n",
    "else - invalid\n",
    "Else - valid\n",
    "__abc__ - valid\n",
    "_1123  - valid\n",
    "_a - valid\n",
    "_A - valid"
   ]
  },
  {
   "cell_type": "code",
   "execution_count": null,
   "metadata": {},
   "outputs": [],
   "source": [
    "else\n",
    "\n",
    "Else"
   ]
  },
  {
   "cell_type": "code",
   "execution_count": null,
   "metadata": {},
   "outputs": [],
   "source": []
  },
  {
   "cell_type": "code",
   "execution_count": null,
   "metadata": {},
   "outputs": [],
   "source": []
  }
 ],
 "metadata": {
  "kernelspec": {
   "display_name": "Python 3",
   "language": "python",
   "name": "python3"
  },
  "language_info": {
   "codemirror_mode": {
    "name": "ipython",
    "version": 3
   },
   "file_extension": ".py",
   "mimetype": "text/x-python",
   "name": "python",
   "nbconvert_exporter": "python",
   "pygments_lexer": "ipython3",
   "version": "3.8.8"
  }
 },
 "nbformat": 4,
 "nbformat_minor": 4
}
