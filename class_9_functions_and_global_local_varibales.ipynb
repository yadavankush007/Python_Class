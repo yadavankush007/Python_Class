{
 "cells": [
  {
   "cell_type": "code",
   "execution_count": null,
   "metadata": {},
   "outputs": [],
   "source": [
    "# function has 2 parts\n",
    "\n",
    "1. function definatin\n",
    "2. function cal\n",
    "\n",
    "syntax:\n",
    "    \n",
    "    def func_name(parameter):\n",
    "        stat1\n",
    "        stat2\n",
    "        return stat3\n",
    "    \n",
    "    func_name(args)\n",
    "    \n",
    "args <---> paramter"
   ]
  },
  {
   "cell_type": "code",
   "execution_count": 2,
   "metadata": {},
   "outputs": [
    {
     "name": "stdout",
     "output_type": "stream",
     "text": [
      "enter a number10\n",
      "even\n"
     ]
    }
   ],
   "source": [
    "# write a function to tell if the number is odd or even\n",
    "\n",
    "def num(a): \n",
    "    if a % 2 ==0: \n",
    "        print(\"even\") \n",
    "    else: \n",
    "        print(\"odd\") \n",
    "        \n",
    "num(eval(input(\"enter a number\"))) "
   ]
  },
  {
   "cell_type": "markdown",
   "metadata": {},
   "source": [
    "# Types of Arguments"
   ]
  },
  {
   "cell_type": "code",
   "execution_count": null,
   "metadata": {},
   "outputs": [],
   "source": [
    "## 1. Positional args\n",
    "- the order is important\n",
    "- the number of args should match with the number of parameter"
   ]
  },
  {
   "cell_type": "code",
   "execution_count": 5,
   "metadata": {},
   "outputs": [
    {
     "name": "stdout",
     "output_type": "stream",
     "text": [
      "10\n",
      "24\n",
      "afsaan\n",
      "10\n",
      "afsaan\n",
      "24\n"
     ]
    }
   ],
   "source": [
    "def emp_info(emp_name, emp_sal, emp_age):\n",
    "    print(emp_name)\n",
    "    print(emp_sal)    \n",
    "    print(emp_age)    \n",
    "    \n",
    "emp_info( 10 , 24 , 'afsaan')\n",
    "emp_info( 10 ,  'afsaan' ,24 )"
   ]
  },
  {
   "cell_type": "code",
   "execution_count": 8,
   "metadata": {},
   "outputs": [
    {
     "ename": "TypeError",
     "evalue": "emp_info() missing 2 required positional arguments: 'emp_sal' and 'emp_age'",
     "output_type": "error",
     "traceback": [
      "\u001b[0;31m---------------------------------------------------------------------------\u001b[0m",
      "\u001b[0;31mTypeError\u001b[0m                                 Traceback (most recent call last)",
      "\u001b[0;32m<ipython-input-8-71a09787a887>\u001b[0m in \u001b[0;36m<module>\u001b[0;34m\u001b[0m\n\u001b[1;32m      4\u001b[0m     \u001b[0mprint\u001b[0m\u001b[0;34m(\u001b[0m\u001b[0memp_age\u001b[0m\u001b[0;34m)\u001b[0m\u001b[0;34m\u001b[0m\u001b[0;34m\u001b[0m\u001b[0m\n\u001b[1;32m      5\u001b[0m \u001b[0;34m\u001b[0m\u001b[0m\n\u001b[0;32m----> 6\u001b[0;31m \u001b[0memp_info\u001b[0m\u001b[0;34m(\u001b[0m \u001b[0;36m10\u001b[0m \u001b[0;34m)\u001b[0m\u001b[0;34m\u001b[0m\u001b[0;34m\u001b[0m\u001b[0m\n\u001b[0m\u001b[1;32m      7\u001b[0m \u001b[0;31m# emp_info( 10 ,  'afsaan' ,24 /)\u001b[0m\u001b[0;34m\u001b[0m\u001b[0;34m\u001b[0m\u001b[0;34m\u001b[0m\u001b[0m\n",
      "\u001b[0;31mTypeError\u001b[0m: emp_info() missing 2 required positional arguments: 'emp_sal' and 'emp_age'"
     ]
    }
   ],
   "source": [
    "def emp_info(emp_name, emp_sal, emp_age):\n",
    "    print(emp_name)\n",
    "    print(emp_sal)    \n",
    "    print(emp_age)    \n",
    "    \n",
    "emp_info( 10 )\n",
    "# emp_info( 10 ,  'afsaan' ,24 /)\n",
    "\n",
    "# numbher of args == number of paramters"
   ]
  },
  {
   "cell_type": "code",
   "execution_count": 9,
   "metadata": {},
   "outputs": [],
   "source": [
    "## 2. Default args"
   ]
  },
  {
   "cell_type": "code",
   "execution_count": 11,
   "metadata": {},
   "outputs": [
    {
     "name": "stdout",
     "output_type": "stream",
     "text": [
      "afsan\n",
      "10\n",
      "24\n",
      "banglore\n",
      "messi\n",
      "24\n",
      "34\n",
      "Argentina\n"
     ]
    }
   ],
   "source": [
    "def emp_info(emp_name, emp_sal, emp_age , emp_location = 'banglore'):\n",
    "    print(emp_name)\n",
    "    print(emp_sal)    \n",
    "    print(emp_age) \n",
    "    print(emp_location)    \n",
    "    \n",
    "    \n",
    "emp_info( 'afsan' , 10 , 24 ) # if emp_location is not given then it will take the deafulr value of emp_location\n",
    "emp_info( 'messi' , 24 , 34 , 'Argentina' )"
   ]
  },
  {
   "cell_type": "markdown",
   "metadata": {},
   "source": [
    "# Note - if der is a combination of postional args and default args then deafult args will be always after postional args"
   ]
  },
  {
   "cell_type": "code",
   "execution_count": 13,
   "metadata": {},
   "outputs": [
    {
     "name": "stdout",
     "output_type": "stream",
     "text": [
      "afsan\n",
      "11\n",
      "34\n",
      "banglore\n",
      "403802\n"
     ]
    }
   ],
   "source": [
    "def emp_info(emp_name, emp_sal, emp_age , emp_location = 'banglore' , emp_pin = '403802'):\n",
    "    print(emp_name)\n",
    "    print(emp_sal)    \n",
    "    print(emp_age) \n",
    "    print(emp_location)   \n",
    "    print(emp_pin) \n",
    "\n",
    "# postional - 3 - emp_name , emp_sal , emp_age\n",
    "# deafult - 2 - emp_loc , emp_pi\n",
    "    \n",
    "# emp_info('afsan' , 11) # error \n",
    "emp_info('afsan' , 11 , 34)    \n",
    "\n",
    "    \n"
   ]
  },
  {
   "cell_type": "code",
   "execution_count": 18,
   "metadata": {},
   "outputs": [
    {
     "name": "stdout",
     "output_type": "stream",
     "text": [
      "afsan\n",
      "11\n",
      "34\n",
      "100\n",
      "45.6\n"
     ]
    }
   ],
   "source": [
    "def emp_info(emp_name, emp_sal, emp_age , emp_pin = True, emp_location = 'banglore' ):\n",
    "    print(emp_name)\n",
    "    print(emp_sal)    \n",
    "    print(emp_age) \n",
    "    print(emp_location)   \n",
    "    print(emp_pin) \n",
    "\n",
    "# postional - 3 - emp_name , emp_sal , emp_age\n",
    "# deafult - 2 - emp_loc , emp_pi\n",
    "    \n",
    "# emp_info('afsan' , 11) # error \n",
    "emp_info('afsan' , 11 , 34 , 45.6 , 100)    "
   ]
  },
  {
   "cell_type": "code",
   "execution_count": 49,
   "metadata": {},
   "outputs": [
    {
     "ename": "SyntaxError",
     "evalue": "positional argument follows keyword argument (<ipython-input-49-b6b369068d38>, line 9)",
     "output_type": "error",
     "traceback": [
      "\u001b[0;36m  File \u001b[0;32m\"<ipython-input-49-b6b369068d38>\"\u001b[0;36m, line \u001b[0;32m9\u001b[0m\n\u001b[0;31m    emp_info('afsan' , 100 , 'goa' , emp_location = 24 , 'goa' )\u001b[0m\n\u001b[0m                                                         ^\u001b[0m\n\u001b[0;31mSyntaxError\u001b[0m\u001b[0;31m:\u001b[0m positional argument follows keyword argument\n"
     ]
    }
   ],
   "source": [
    "# 3. keywword arguments\n",
    "\n",
    "def emp_info(emp_name, emp_sal, emp_age, emp_location = 'banglore' ):\n",
    "    print(emp_name)\n",
    "    print(emp_sal)    \n",
    "    print(emp_age) \n",
    "    print(emp_location)   \n",
    "\n",
    "emp_info('afsan' , 100 , 'goa' , emp_location = 24 , 'goa' )"
   ]
  },
  {
   "cell_type": "code",
   "execution_count": 22,
   "metadata": {},
   "outputs": [
    {
     "name": "stdout",
     "output_type": "stream",
     "text": [
      "afsan\n",
      "100\n",
      "24\n",
      "goa\n"
     ]
    }
   ],
   "source": [
    "def emp_info(emp_name, emp_sal, emp_age, emp_location = 'banglore' ):\n",
    "    print(emp_name)\n",
    "    print(emp_sal)    \n",
    "    print(emp_age) \n",
    "    print(emp_location)   \n",
    "\n",
    "emp_info(emp_location = 'goa' , emp_sal = 100 , emp_age = 24 ,emp_name = 'afsan')"
   ]
  },
  {
   "cell_type": "code",
   "execution_count": null,
   "metadata": {},
   "outputs": [],
   "source": [
    "#4. variable length argiments\n",
    "\n",
    "- *args - takes varibale length postional args and store the value in tuple\n",
    "- **kwargs - take the varibale length keyword args and stores the values in dic"
   ]
  },
  {
   "cell_type": "code",
   "execution_count": 28,
   "metadata": {},
   "outputs": [
    {
     "name": "stdout",
     "output_type": "stream",
     "text": [
      "afsan\n",
      "10\n",
      "24\n",
      "banglore\n",
      "('Goa', 'japan', 'koera', 'Brazil')\n"
     ]
    }
   ],
   "source": [
    "def emp_info(emp_name, emp_sal, emp_age, emp_location = 'banglore' , *args ):\n",
    "    print(emp_name)\n",
    "    print(emp_sal)    \n",
    "    print(emp_age) \n",
    "    print(emp_location)   \n",
    "    print(args)\n",
    "    \n",
    "emp_info('afsan' , '10' , 24 , 'Goa' , 'japan' , 'koera' , 'Brazil')"
   ]
  },
  {
   "cell_type": "code",
   "execution_count": null,
   "metadata": {},
   "outputs": [],
   "source": [
    "def emp_info(emp_name, emp_sal, emp_age, , *args  , emp_location = 'banglore' ):\n",
    "    print(emp_name)\n",
    "    print(emp_sal)    \n",
    "    print(emp_age) \n",
    "    print(emp_location)   \n",
    "    print(args)\n",
    "    \n",
    "emp_info('afsan' , '10' , 24 , 'Goa' , 'japan' , 'koera' , 'Brazil')"
   ]
  },
  {
   "cell_type": "code",
   "execution_count": 29,
   "metadata": {},
   "outputs": [
    {
     "ename": "TypeError",
     "evalue": "emp_info() missing 1 required keyword-only argument: 'emp_age'",
     "output_type": "error",
     "traceback": [
      "\u001b[0;31m---------------------------------------------------------------------------\u001b[0m",
      "\u001b[0;31mTypeError\u001b[0m                                 Traceback (most recent call last)",
      "\u001b[0;32m<ipython-input-29-fc692ef09781>\u001b[0m in \u001b[0;36m<module>\u001b[0;34m\u001b[0m\n\u001b[1;32m      6\u001b[0m     \u001b[0mprint\u001b[0m\u001b[0;34m(\u001b[0m\u001b[0margs\u001b[0m\u001b[0;34m)\u001b[0m\u001b[0;34m\u001b[0m\u001b[0;34m\u001b[0m\u001b[0m\n\u001b[1;32m      7\u001b[0m \u001b[0;34m\u001b[0m\u001b[0m\n\u001b[0;32m----> 8\u001b[0;31m \u001b[0memp_info\u001b[0m\u001b[0;34m(\u001b[0m\u001b[0;34m'afsan'\u001b[0m \u001b[0;34m,\u001b[0m \u001b[0;34m'10'\u001b[0m \u001b[0;34m,\u001b[0m \u001b[0;36m24\u001b[0m \u001b[0;34m,\u001b[0m \u001b[0;34m'Goa'\u001b[0m \u001b[0;34m,\u001b[0m \u001b[0;34m'japan'\u001b[0m \u001b[0;34m,\u001b[0m \u001b[0;34m'koera'\u001b[0m \u001b[0;34m,\u001b[0m \u001b[0;34m'Brazil'\u001b[0m\u001b[0;34m)\u001b[0m\u001b[0;34m\u001b[0m\u001b[0;34m\u001b[0m\u001b[0m\n\u001b[0m",
      "\u001b[0;31mTypeError\u001b[0m: emp_info() missing 1 required keyword-only argument: 'emp_age'"
     ]
    }
   ],
   "source": [
    "def emp_info(emp_name, emp_sal,  *args, emp_age, emp_location = 'banglore' ):\n",
    "    print(emp_name)\n",
    "    print(emp_sal)    \n",
    "    print(emp_age) \n",
    "    print(emp_location)   \n",
    "    print(args)\n",
    "    \n",
    "emp_info('afsan' , '10' , 24 , 'Goa' , 'japan' , 'koera' , 'Brazil')"
   ]
  },
  {
   "cell_type": "code",
   "execution_count": 33,
   "metadata": {},
   "outputs": [
    {
     "name": "stdout",
     "output_type": "stream",
     "text": [
      "afsan\n",
      "10\n",
      "24\n",
      "Goa\n",
      "{}\n"
     ]
    }
   ],
   "source": [
    "# **kwargs\n",
    "\n",
    "def emp_info(emp_name, emp_sal, emp_age, emp_location = 'banglore' , **kwargs ):\n",
    "    print(emp_name)\n",
    "    print(emp_sal)    \n",
    "    print(emp_age) \n",
    "    print(emp_location)   \n",
    "    print(kwargs)\n",
    "    \n",
    "emp_info('afsan' , '10' , 24 , 'Goa')"
   ]
  },
  {
   "cell_type": "code",
   "execution_count": 34,
   "metadata": {},
   "outputs": [
    {
     "name": "stdout",
     "output_type": "stream",
     "text": [
      "afsan\n",
      "10\n",
      "24\n",
      "Goa\n",
      "{'emp_pin': '403802', 'emp_id': 1111}\n"
     ]
    }
   ],
   "source": [
    "def emp_info(emp_name, emp_sal, emp_age, emp_location = 'banglore' , **kwargs ):\n",
    "    print(emp_name)\n",
    "    print(emp_sal)    \n",
    "    print(emp_age) \n",
    "    print(emp_location)   \n",
    "    print(kwargs)\n",
    "    \n",
    "\n",
    "emp_info('afsan' , '10' , 24 , 'Goa' , emp_pin = '403802' , emp_id = 1111)"
   ]
  },
  {
   "cell_type": "code",
   "execution_count": 37,
   "metadata": {},
   "outputs": [
    {
     "name": "stdout",
     "output_type": "stream",
     "text": [
      "hello world  wassup\n"
     ]
    }
   ],
   "source": [
    "# user has to proi\n",
    "\n",
    "def sentence_maker(*args):\n",
    "    \n",
    "    print(\" \".join(args))\n",
    "\n",
    "sentence_maker('hello' , 'world' ,' wassup')"
   ]
  },
  {
   "cell_type": "code",
   "execution_count": 42,
   "metadata": {},
   "outputs": [
    {
     "ename": "SyntaxError",
     "evalue": "invalid syntax (<ipython-input-42-14a2b0aca722>, line 1)",
     "output_type": "error",
     "traceback": [
      "\u001b[0;36m  File \u001b[0;32m\"<ipython-input-42-14a2b0aca722>\"\u001b[0;36m, line \u001b[0;32m1\u001b[0m\n\u001b[0;31m    def emp_info(emp_name, emp_sal, emp_age, emp_location = 'banglore' , **kwargs, *args ):\u001b[0m\n\u001b[0m                                                                                   ^\u001b[0m\n\u001b[0;31mSyntaxError\u001b[0m\u001b[0;31m:\u001b[0m invalid syntax\n"
     ]
    }
   ],
   "source": [
    "def emp_info(emp_name, emp_sal, emp_age, emp_location = 'banglore' , **kwargs, *args ):\n",
    "    print(emp_name)\n",
    "    print(emp_sal)    \n",
    "    print(emp_age) \n",
    "    print(emp_location)   \n",
    "    print(args)\n",
    "    print(kwargs)\n",
    "    \n",
    "\n",
    "emp_info('afsan' , '10' , 24 , 'Goa' , 'hello', emp_pin = '403802' , emp_id = 1111)"
   ]
  },
  {
   "cell_type": "code",
   "execution_count": 35,
   "metadata": {},
   "outputs": [
    {
     "data": {
      "text/plain": [
       "'hello world'"
      ]
     },
     "execution_count": 35,
     "metadata": {},
     "output_type": "execute_result"
    }
   ],
   "source": [
    "# Return Statment in functions\n",
    "\n",
    "- return statement is optional\n",
    "- if not used then default return will be None\n",
    "- if used then the value will be the statement\n",
    "- you can return any object\n",
    "- you can return a fucntion also"
   ]
  },
  {
   "cell_type": "code",
   "execution_count": 52,
   "metadata": {},
   "outputs": [
    {
     "name": "stdout",
     "output_type": "stream",
     "text": [
      "None\n"
     ]
    }
   ],
   "source": [
    "def sum(a,b):\n",
    "    c = a+b\n",
    "    \n",
    "print(sum(10,20))"
   ]
  },
  {
   "cell_type": "code",
   "execution_count": 53,
   "metadata": {},
   "outputs": [
    {
     "name": "stdout",
     "output_type": "stream",
     "text": [
      "30\n"
     ]
    }
   ],
   "source": [
    "def sum(a,b):\n",
    "    return a+b\n",
    "    \n",
    "print(sum(10,20))  # sum(10,20) = 30"
   ]
  },
  {
   "cell_type": "code",
   "execution_count": 58,
   "metadata": {},
   "outputs": [
    {
     "name": "stdout",
     "output_type": "stream",
     "text": [
      "<class 'tuple'>\n"
     ]
    }
   ],
   "source": [
    "def sum(a,b):\n",
    "    return 1,2,3,True\n",
    "    \n",
    "print(type(sum(10,20)))  # sum(10,20) = 30"
   ]
  },
  {
   "cell_type": "code",
   "execution_count": 61,
   "metadata": {},
   "outputs": [
    {
     "name": "stdout",
     "output_type": "stream",
     "text": [
      "20\n"
     ]
    }
   ],
   "source": [
    "def sum(a , b):\n",
    "     = a +b\n",
    "    return c\n",
    "    \n",
    "def sub(sum_ans , d):\n",
    "    print(sum_ans - d)\n",
    "    \n",
    "abcwsdfdfasdfgasg = sum(10,20)\n",
    "sub(c,10)"
   ]
  },
  {
   "cell_type": "code",
   "execution_count": 64,
   "metadata": {},
   "outputs": [
    {
     "name": "stdout",
     "output_type": "stream",
     "text": [
      "20\n"
     ]
    }
   ],
   "source": [
    "def sum(a , b):\n",
    "     c = a +b\n",
    "     return c\n",
    "    \n",
    "def sub(sum_ans , d):\n",
    "    print(sum_ans - d)\n",
    "    \n",
    "sub(sum(10,20),10)"
   ]
  },
  {
   "cell_type": "code",
   "execution_count": 65,
   "metadata": {},
   "outputs": [
    {
     "name": "stdout",
     "output_type": "stream",
     "text": [
      "eello\n"
     ]
    }
   ],
   "source": [
    "print('hello'.replace('h' , 'e'))"
   ]
  },
  {
   "cell_type": "code",
   "execution_count": 66,
   "metadata": {},
   "outputs": [
    {
     "name": "stdout",
     "output_type": "stream",
     "text": [
      "None\n"
     ]
    }
   ],
   "source": [
    "[1,2,3,4,5].append(1)"
   ]
  },
  {
   "cell_type": "code",
   "execution_count": 68,
   "metadata": {},
   "outputs": [
    {
     "name": "stdout",
     "output_type": "stream",
     "text": [
      "10\n"
     ]
    }
   ],
   "source": [
    "def random_question(a , b):\n",
    "    a = 10\n",
    "    return a\n",
    "    b = 20\n",
    "    return b\n",
    "\n",
    "answer = random_question(10,20)\n",
    "print(answer)"
   ]
  },
  {
   "cell_type": "code",
   "execution_count": 71,
   "metadata": {},
   "outputs": [
    {
     "name": "stdout",
     "output_type": "stream",
     "text": [
      "def\n"
     ]
    }
   ],
   "source": [
    "def random_ques_2(a):\n",
    "    if a%2 == 0:\n",
    "        return 'even' , 'abc' , 'def'\n",
    "    else:\n",
    "        return 'odd'\n",
    "\n",
    "a , b , c = random_ques_2(20)\n",
    "print(c)"
   ]
  },
  {
   "cell_type": "code",
   "execution_count": 73,
   "metadata": {},
   "outputs": [
    {
     "data": {
      "text/plain": [
       "24"
      ]
     },
     "execution_count": 73,
     "metadata": {},
     "output_type": "execute_result"
    }
   ],
   "source": [
    "# recursiev function - funciton calling itself\n",
    "\n",
    "def fact(num):\n",
    "    if num == 0:\n",
    "        return 1\n",
    "    else:\n",
    "        return num* fact(num-1)\n",
    "    \n",
    "fact(4)"
   ]
  },
  {
   "cell_type": "markdown",
   "metadata": {},
   "source": [
    "# lambda functions - Anonoymous \n",
    "\n",
    "- a lambda fucntion is a small anonymous function\n",
    "- a lambda function can take any number of args, but cab onbly have one expression"
   ]
  },
  {
   "cell_type": "code",
   "execution_count": 75,
   "metadata": {},
   "outputs": [
    {
     "data": {
      "text/plain": [
       "30"
      ]
     },
     "execution_count": 75,
     "metadata": {},
     "output_type": "execute_result"
    }
   ],
   "source": [
    "def sum(a,b):\n",
    "    return a+b\n",
    "\n",
    "sum(10,20)"
   ]
  },
  {
   "cell_type": "code",
   "execution_count": 76,
   "metadata": {},
   "outputs": [
    {
     "name": "stdout",
     "output_type": "stream",
     "text": [
      "30\n"
     ]
    }
   ],
   "source": [
    "a = (lambda a,b : a+b)(10,20)\n",
    "print(a)"
   ]
  },
  {
   "cell_type": "code",
   "execution_count": 77,
   "metadata": {},
   "outputs": [
    {
     "name": "stdout",
     "output_type": "stream",
     "text": [
      "30\n"
     ]
    }
   ],
   "source": [
    "a = (lambda a,b : a+b)\n",
    "print(a(10,20))"
   ]
  },
  {
   "cell_type": "code",
   "execution_count": 79,
   "metadata": {},
   "outputs": [
    {
     "name": "stdout",
     "output_type": "stream",
     "text": [
      "odd\n"
     ]
    }
   ],
   "source": [
    "# lambda fucntion to find a number is even or odd\n",
    "\n",
    "a = (lambda a :'even' if a%2==0 else 'odd')(11)\n",
    "print(a)"
   ]
  },
  {
   "cell_type": "code",
   "execution_count": null,
   "metadata": {},
   "outputs": [],
   "source": [
    "gloabl , local , map . reduce , filter , enumerate , gerator - thrusday"
   ]
  },
  {
   "cell_type": "code",
   "execution_count": null,
   "metadata": {},
   "outputs": [],
   "source": [
    "friday - module\n",
    "\n",
    "monday - 11 0ct - file handling\n",
    "\n",
    "tuesday - 12 oct - exception handling\n",
    "\n",
    "wednes 13 oct - Regular expression"
   ]
  }
 ],
 "metadata": {
  "kernelspec": {
   "display_name": "Python 3",
   "language": "python",
   "name": "python3"
  },
  "language_info": {
   "codemirror_mode": {
    "name": "ipython",
    "version": 3
   },
   "file_extension": ".py",
   "mimetype": "text/x-python",
   "name": "python",
   "nbconvert_exporter": "python",
   "pygments_lexer": "ipython3",
   "version": "3.8.5"
  }
 },
 "nbformat": 4,
 "nbformat_minor": 4
}
