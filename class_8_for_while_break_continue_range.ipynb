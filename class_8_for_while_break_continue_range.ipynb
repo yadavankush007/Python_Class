{
 "cells": [
  {
   "cell_type": "code",
   "execution_count": null,
   "metadata": {},
   "outputs": [],
   "source": [
    "# For loop\n",
    "\n",
    "- for fixed iteration we use for loop\n",
    "\n",
    "syntax\n",
    "\n",
    "\"\"\"\n",
    "for var in interables:\n",
    "    stat 1\n",
    "    stat 2\n",
    "\"\"\"\n",
    "\n",
    "if iterable object has len of 4 then stat 1 - 2 will be executed 4 times"
   ]
  },
  {
   "cell_type": "code",
   "execution_count": null,
   "metadata": {},
   "outputs": [],
   "source": [
    "# while loop\n",
    "\n",
    "- if we do not know the iteration\n",
    "\n",
    "syntax\n",
    "\n",
    "1. initialization\n",
    "2. condition checking\n",
    "3. incerement / decrement"
   ]
  },
  {
   "cell_type": "code",
   "execution_count": 1,
   "metadata": {},
   "outputs": [
    {
     "name": "stdout",
     "output_type": "stream",
     "text": [
      "hello\n",
      "hello\n",
      "hello\n"
     ]
    }
   ],
   "source": [
    "i = 0 # init\n",
    "while i<3: # condition checking\n",
    "    print('hello')\n",
    "    i += 1 # increment"
   ]
  },
  {
   "cell_type": "code",
   "execution_count": null,
   "metadata": {},
   "outputs": [],
   "source": [
    "i = 0\n",
    "True\n",
    "hello\n",
    "i = 0 + 1\n",
    "\n",
    "i = 1\n",
    "True\n",
    "hello\n",
    "i = 1 + 1\n",
    "\n",
    "i = 2\n",
    "True\n",
    "hello\n",
    "i = 2+1\n",
    "\n",
    "i = 3\n",
    "False"
   ]
  },
  {
   "cell_type": "code",
   "execution_count": 3,
   "metadata": {},
   "outputs": [
    {
     "name": "stdout",
     "output_type": "stream",
     "text": [
      "messi\n"
     ]
    }
   ],
   "source": [
    "i = 4 # init\n",
    "while i<5: # condition checking\n",
    "    print('messi')\n",
    "    i += 2"
   ]
  },
  {
   "cell_type": "code",
   "execution_count": 10,
   "metadata": {},
   "outputs": [
    {
     "name": "stdout",
     "output_type": "stream",
     "text": [
      "p\n",
      "yy\n",
      "ttt\n",
      "hhhh\n",
      "ooooo\n",
      "nnnnnn\n",
      "p\n",
      "yy\n",
      "ttt\n",
      "hhhh\n",
      "ooooo\n",
      "nnnnnn\n",
      "p\n",
      "yy\n",
      "ttt\n",
      "hhhh\n",
      "ooooo\n",
      "nnnnnn\n"
     ]
    }
   ],
   "source": [
    "#q2. display thr following output using loops where the string is 'python'\n",
    "\n",
    "'''\n",
    "p\n",
    "yy\n",
    "ttt\n",
    "hhhh\n",
    "ooooo\n",
    "nnnnnn\n",
    "'''\n",
    "\n",
    "a = 'python'\n",
    "\n",
    "print(a[0]*1)\n",
    "print(a[1]*2)\n",
    "print(a[2]*3)\n",
    "print(a[3]*4)\n",
    "print(a[4]*5)\n",
    "print(a[5]*6)\n",
    "\n",
    "\n",
    "\n",
    "# for loop\n",
    "\n",
    "for i in range(0,len(a)):\n",
    "    print(a[i]*(i+1))\n",
    "\n",
    "# while loops\n",
    "j = 0\n",
    "while j<=5:\n",
    "    print(a[j]*(j+1))\n",
    "    j +=1"
   ]
  },
  {
   "cell_type": "code",
   "execution_count": null,
   "metadata": {},
   "outputs": [],
   "source": [
    "# range\n",
    "\n",
    "syntax\n",
    "\n",
    "range(start_value , stop_value , step)\n",
    "\n",
    "stop_value - 1 ( exclusive)\n",
    "\n",
    "default\n",
    "\n",
    "start_value = 0\n",
    "stop_value -- no default\n",
    "step  - 1"
   ]
  },
  {
   "cell_type": "code",
   "execution_count": 9,
   "metadata": {},
   "outputs": [
    {
     "data": {
      "text/plain": [
       "[0, 2, 4, 6, 8]"
      ]
     },
     "execution_count": 9,
     "metadata": {},
     "output_type": "execute_result"
    }
   ],
   "source": [
    "list(range(0,10,2))"
   ]
  },
  {
   "cell_type": "code",
   "execution_count": null,
   "metadata": {},
   "outputs": [],
   "source": [
    "a = 'python'\n",
    "\n",
    "for i in range(0,len(a)):\n",
    "    print(a[i]*(i+1))\n",
    "    \n",
    "range(0,5)\n",
    "[0,1,2,3,4]\n",
    "\n",
    "iteration 1 i=0\n",
    "a[0]*(0+1)\n",
    "p\n",
    "\n",
    "iteration2 i=1\n",
    "a[1]*(1+1)\n",
    "yy\n",
    "\n",
    "iteration3 i=2\n",
    "a[2]*(2+1)\n",
    "ttt\n",
    "\n",
    "iteration4 i=3\n",
    "a[3]*(3+1)\n",
    "hhhh"
   ]
  },
  {
   "cell_type": "code",
   "execution_count": null,
   "metadata": {},
   "outputs": [],
   "source": [
    "# Break\n",
    "\n",
    "- the break keyword is used to break out from a loop"
   ]
  },
  {
   "cell_type": "code",
   "execution_count": 11,
   "metadata": {},
   "outputs": [
    {
     "name": "stdout",
     "output_type": "stream",
     "text": [
      "0\n",
      "1\n",
      "2\n",
      "3\n"
     ]
    }
   ],
   "source": [
    "for i in range(9):\n",
    "    if i > 3:\n",
    "        break\n",
    "    print(i)"
   ]
  },
  {
   "cell_type": "code",
   "execution_count": null,
   "metadata": {},
   "outputs": [],
   "source": [
    "for iteration 1 i = 0\n",
    "False\n",
    "0\n",
    "\n",
    "for iteration2 i = 1\n",
    "False\n",
    "1\n",
    "\n",
    "for iteration3 i = 2\n",
    "False\n",
    "2\n",
    "\n",
    "for iteration4 i =3\n",
    "False\n",
    "3\n",
    "\n",
    "for iteration5 i=4\n",
    "True\n",
    "break --> exit the loop"
   ]
  },
  {
   "cell_type": "markdown",
   "metadata": {},
   "source": [
    "https://pythontutor.com/visualize.html#mode=display"
   ]
  },
  {
   "cell_type": "code",
   "execution_count": 12,
   "metadata": {},
   "outputs": [
    {
     "name": "stdout",
     "output_type": "stream",
     "text": [
      "0\n",
      "1\n",
      "2\n"
     ]
    }
   ],
   "source": [
    "i = 0\n",
    "while i < 9:\n",
    "    if i == 3:\n",
    "        break\n",
    "    print(i)\n",
    "    i +=1"
   ]
  },
  {
   "cell_type": "code",
   "execution_count": 13,
   "metadata": {},
   "outputs": [
    {
     "name": "stdout",
     "output_type": "stream",
     "text": [
      "0\n",
      "1\n",
      "2\n",
      "3\n"
     ]
    }
   ],
   "source": [
    "i = 0\n",
    "while i < 9:\n",
    "    print(i)\n",
    "    if i == 3:\n",
    "        break\n",
    "    i +=1"
   ]
  },
  {
   "cell_type": "code",
   "execution_count": 14,
   "metadata": {},
   "outputs": [
    {
     "name": "stdout",
     "output_type": "stream",
     "text": [
      "1\n",
      "1\n",
      "1\n",
      "1\n",
      "1\n",
      "2\n",
      "2\n",
      "2\n",
      "2\n",
      "2\n",
      "4\n",
      "4\n",
      "4\n",
      "4\n",
      "4\n",
      "5\n",
      "5\n",
      "5\n",
      "5\n",
      "5\n",
      "6\n",
      "6\n",
      "6\n",
      "6\n",
      "6\n",
      "7\n",
      "7\n",
      "7\n",
      "7\n",
      "7\n",
      "8\n",
      "8\n",
      "8\n",
      "8\n",
      "8\n",
      "9\n",
      "9\n",
      "9\n",
      "9\n",
      "9\n"
     ]
    }
   ],
   "source": [
    "for i in range(1,10):\n",
    "    for j in range(5,10):\n",
    "        if i == 3:\n",
    "            break\n",
    "        print(i)"
   ]
  },
  {
   "cell_type": "code",
   "execution_count": null,
   "metadata": {},
   "outputs": [],
   "source": [
    "for i in range(1,10):\n",
    "    for j in range(5,10):\n",
    "        if i == 3:\n",
    "            break\n",
    "        print(i)\n",
    "        \n",
    "# explanation\n",
    "\n",
    "for iter 1 i = 1\n",
    "    for iter 1 j = 5\n",
    "        False\n",
    "        1\n",
    "    \n",
    "    for iter 2 j = 6\n",
    "        False\n",
    "        1\n",
    "        \n",
    "    for iter 3 j = 7\n",
    "        False\n",
    "        1\n",
    "        \n",
    "    for iter 4 j = 8\n",
    "        False\n",
    "        1\n",
    "        \n",
    "    for iter 5 j = 8\n",
    "        False\n",
    "        1\n",
    "    \n",
    "    for iter 6 j = 9\n",
    "        False\n",
    "        1\n",
    "    exahusted\n",
    "    \n",
    "for iter 2 i = 2\n",
    "    for iter 1 j = 5\n",
    "        False\n",
    "        2\n",
    "    \n",
    "    for iter 2 j = 6\n",
    "        False\n",
    "        2\n",
    "        \n",
    "    for iter 3 j = 7\n",
    "        False\n",
    "        2\n",
    "        \n",
    "    for iter 4 j = 8\n",
    "        False\n",
    "        2\n",
    "        \n",
    "    for iter 5 j = 8\n",
    "        False\n",
    "        2\n",
    "    \n",
    "    for iter 6 j = 9\n",
    "        False\n",
    "        2\n",
    "    exahusted\n",
    "    \n",
    "for iter 3 i = 3\n",
    "    for iter 1 j = 5\n",
    "        break\n",
    "        \n",
    "for iter 4 i = 4\n",
    "    for iter 1 j = 5\n",
    "        False\n",
    "        4\n",
    "    \n",
    "    for iter 2 j = 6\n",
    "        False\n",
    "        4\n",
    "        \n",
    "    for iter 3 j = 7\n",
    "        False\n",
    "        4\n",
    "        \n",
    "    for iter 4 j = 8\n",
    "        False\n",
    "        4\n",
    "        \n",
    "    for iter 5 j = 8\n",
    "        False\n",
    "        4\n",
    "    \n",
    "    for iter 6 j = 9\n",
    "        False\n",
    "        4\n",
    "    exahusted\n",
    "    "
   ]
  },
  {
   "cell_type": "code",
   "execution_count": 15,
   "metadata": {},
   "outputs": [
    {
     "name": "stdout",
     "output_type": "stream",
     "text": [
      "1 6\n",
      "1 7\n",
      "1 8\n",
      "2 6\n",
      "2 7\n",
      "2 8\n"
     ]
    }
   ],
   "source": [
    "# nested for loop\n",
    "\n",
    "for i in range(1,3):\n",
    "    for j in range(6,9):\n",
    "        print(i , j)"
   ]
  },
  {
   "cell_type": "code",
   "execution_count": null,
   "metadata": {},
   "outputs": [],
   "source": [
    "for iteration 1 i = 1\n",
    "    for iteraion 1 j = 6\n",
    "        1 6\n",
    "    for ietration 2 j = 7\n",
    "        1 7\n",
    "    for iteration 3 j = 8\n",
    "        1 8\n",
    "    exahusted\n",
    "    \n",
    "for iteration 2 i = 2\n",
    "    for iteraion 1 j = 6\n",
    "        2 6\n",
    "    for ietration 2 j = 7\n",
    "       2 7\n",
    "    for iteration 3 j = 8\n",
    "        2 8\n",
    "    exahusted\n",
    "    \n",
    "for iteration 2 i = 3 exhausted\n",
    "            "
   ]
  },
  {
   "cell_type": "code",
   "execution_count": 19,
   "metadata": {},
   "outputs": [
    {
     "name": "stdout",
     "output_type": "stream",
     "text": [
      "Welcome to Roller-Coaster Ride\n",
      "What is your height:121\n",
      "You can Ride!\n",
      "Your Age Please:22\n",
      "Please pay $10\n"
     ]
    }
   ],
   "source": [
    "print(\"Welcome to Roller-Coaster Ride\") \n",
    "height = int(input(\"What is your height:\")) \n",
    "if height <= 120: \n",
    "    print(\"Sorry you cannot ride\") \n",
    "else: \n",
    "    print(\"You can Ride!\") \n",
    "    age = int(input(\"Your Age Please:\")) \n",
    "    if age <= 21: \n",
    "        print(\"Please pay $7\") \n",
    "    elif age >= 21: \n",
    "        print (\"Please pay $10\") "
   ]
  },
  {
   "cell_type": "markdown",
   "metadata": {},
   "source": [
    "# Continue\n",
    "\n",
    "- the continue keyword is used to end the current execution of a loop and continue to the next iteration"
   ]
  },
  {
   "cell_type": "code",
   "execution_count": 20,
   "metadata": {},
   "outputs": [
    {
     "name": "stdout",
     "output_type": "stream",
     "text": [
      "0\n",
      "1\n",
      "2\n",
      "4\n",
      "5\n",
      "6\n",
      "7\n",
      "8\n"
     ]
    }
   ],
   "source": [
    "for i in range(9):\n",
    "    if i == 3:\n",
    "        continue\n",
    "    print(i)"
   ]
  },
  {
   "cell_type": "code",
   "execution_count": 23,
   "metadata": {},
   "outputs": [
    {
     "name": "stdout",
     "output_type": "stream",
     "text": [
      "1\n",
      "2\n",
      "4\n"
     ]
    }
   ],
   "source": [
    "i = 0\n",
    "while i < 4:\n",
    "    i +=1\n",
    "    if i == 3:\n",
    "        continue\n",
    "    print(i)"
   ]
  },
  {
   "cell_type": "code",
   "execution_count": null,
   "metadata": {},
   "outputs": [],
   "source": [
    "i = 0\n",
    "True\n",
    "0\n",
    "i = 1\n",
    "False\n",
    "\n",
    "i = 1\n",
    "True\n",
    "1\n",
    "i = 2\n",
    "False\n",
    "\n",
    "True\n",
    "2\n",
    "i = 3\n",
    "True\n",
    "Continue\n",
    "\n",
    "i = 3\n",
    "True\n",
    "3\n",
    "i = 4\n",
    "False\n",
    "\n",
    "\n",
    "i = 4\n",
    "False\n",
    "\n"
   ]
  },
  {
   "cell_type": "code",
   "execution_count": null,
   "metadata": {},
   "outputs": [],
   "source": [
    "[1,2,3,4,5,6,7,8,9,10,11,12,13,15]\n",
    "\n",
    "[1,2,3,4,5,6,7,8,9,10]\n",
    "[1,2,4,5,7,8,10]"
   ]
  },
  {
   "cell_type": "code",
   "execution_count": 33,
   "metadata": {},
   "outputs": [
    {
     "name": "stdout",
     "output_type": "stream",
     "text": [
      "nnnnnn\n",
      "ooooo\n",
      "hhhh\n",
      "ttt\n",
      "yy\n",
      "p\n",
      "nnnnnn\n",
      "ooooo\n",
      "hhhh\n",
      "ttt\n",
      "yy\n",
      "p\n",
      "\n"
     ]
    }
   ],
   "source": [
    "#q2. display thr following output using loops where the string is 'python'\n",
    "\n",
    "# nnnnnn\n",
    "# ooooo\n",
    "# hhhh\n",
    "# ttt\n",
    "# yy\n",
    "# p\n",
    "\n",
    "a = 'python'\n",
    "\n",
    "# for\n",
    "for i in range(6,0,-1):\n",
    "    print(a[i-1]*i)\n",
    "\n",
    "# while loop\n",
    "i = 6\n",
    "while i >= 0:\n",
    "    print(a[i-1]*i)\n",
    "    i -= 1\n"
   ]
  },
  {
   "cell_type": "code",
   "execution_count": 28,
   "metadata": {},
   "outputs": [
    {
     "data": {
      "text/plain": [
       "[6, 5, 4, 3, 2, 1]"
      ]
     },
     "execution_count": 28,
     "metadata": {},
     "output_type": "execute_result"
    }
   ],
   "source": [
    "list(range(6,0,-1))"
   ]
  },
  {
   "cell_type": "code",
   "execution_count": null,
   "metadata": {},
   "outputs": [],
   "source": [
    "# Functions\n",
    "\n",
    "- why we need functions\n",
    "\n",
    "- if we want to use a same code again and again "
   ]
  },
  {
   "cell_type": "code",
   "execution_count": 34,
   "metadata": {},
   "outputs": [
    {
     "name": "stdout",
     "output_type": "stream",
     "text": [
      "no\n",
      "3\n",
      "yes\n"
     ]
    }
   ],
   "source": [
    "# task1\n",
    "\n",
    "str1 = 'abc'\n",
    "\n",
    "if str1 == str1[::-1]:\n",
    "    print('yes')\n",
    "else:\n",
    "    print('no')\n",
    "    \n",
    "# task2\n",
    "num = 1\n",
    "num_2 = 2\n",
    "\n",
    "print(num + num_2)\n",
    "\n",
    "# task3\n",
    "str1 = 'level'\n",
    "\n",
    "if str1 == str1[::-1]:\n",
    "    print('yes')\n",
    "else:\n",
    "    print('no')"
   ]
  },
  {
   "cell_type": "code",
   "execution_count": null,
   "metadata": {},
   "outputs": [],
   "source": [
    "# coding rules\n",
    "\n",
    "- you have to write a code in minimum line possible\n",
    "- you have to write so that other can understand easily"
   ]
  },
  {
   "cell_type": "code",
   "execution_count": null,
   "metadata": {},
   "outputs": [],
   "source": [
    "Functions ( DRY) - Do not repeat yourself\n",
    "\n",
    "in function we have 2 things\n",
    "\n",
    "1. function defination - we define the function or we define a task\n",
    "2. function call - we execute the function\n",
    "\n",
    "syntax\n",
    "\n",
    "1. fucntion defination\n",
    "\n",
    "def function_name(paramter):\n",
    "    statment1\n",
    "    statment2\n",
    "    return statment3\n",
    "\n",
    "- thinsgs which are optional\n",
    "    - paramters\n",
    "    - return\n",
    "\n",
    "2. function call\n",
    "\n",
    "- function_name(args)\n",
    "\n",
    "NOTE - IF ARGS IS THEIR IN THE FUNCTION CALL THEN PARAMETR SHOULD BE ALSO DER OR VICE VERSA"
   ]
  },
  {
   "cell_type": "code",
   "execution_count": 35,
   "metadata": {},
   "outputs": [
    {
     "name": "stdout",
     "output_type": "stream",
     "text": [
      "5\n"
     ]
    }
   ],
   "source": [
    "# function  to add two numbers\n",
    "\n",
    "def sum(): # function defination\n",
    "    print(2+3)\n",
    "    \n",
    "sum()"
   ]
  },
  {
   "cell_type": "code",
   "execution_count": 38,
   "metadata": {},
   "outputs": [
    {
     "name": "stdout",
     "output_type": "stream",
     "text": [
      "60\n"
     ]
    }
   ],
   "source": [
    "def sum(a , b , c): # function defination\n",
    "    print(a + b + c)\n",
    "\n",
    "sum(10 , 20  , 30)"
   ]
  },
  {
   "cell_type": "code",
   "execution_count": 40,
   "metadata": {},
   "outputs": [
    {
     "name": "stdout",
     "output_type": "stream",
     "text": [
      "yes\n",
      "yes\n",
      "yes\n",
      "no\n",
      "no\n"
     ]
    }
   ],
   "source": [
    "# function to do palindrome\n",
    "\n",
    "def palindrome(a):\n",
    "    if a == a[::-1]:\n",
    "        print('yes')\n",
    "    else:\n",
    "        print('no')\n",
    "        \n",
    "palindrome('level')\n",
    "palindrome('maam')\n",
    "palindrome('malayalam')\n",
    "palindrome('afsaan')\n",
    "palindrome('khan')"
   ]
  },
  {
   "cell_type": "code",
   "execution_count": null,
   "metadata": {},
   "outputs": [],
   "source": []
  }
 ],
 "metadata": {
  "kernelspec": {
   "display_name": "Python 3",
   "language": "python",
   "name": "python3"
  },
  "language_info": {
   "codemirror_mode": {
    "name": "ipython",
    "version": 3
   },
   "file_extension": ".py",
   "mimetype": "text/x-python",
   "name": "python",
   "nbconvert_exporter": "python",
   "pygments_lexer": "ipython3",
   "version": "3.8.5"
  }
 },
 "nbformat": 4,
 "nbformat_minor": 4
}
