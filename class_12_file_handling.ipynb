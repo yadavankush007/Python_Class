{
 "cells": [
  {
   "cell_type": "code",
   "execution_count": null,
   "metadata": {},
   "outputs": [],
   "source": [
    "# textfile - .txt , .py . pdf ,\n",
    "# binary - images, videos, etc"
   ]
  },
  {
   "cell_type": "markdown",
   "metadata": {},
   "source": [
    "# points to keep in mnd while working with file handling\n",
    "\n",
    "1. to read a file using file handling we have to open a file\n",
    "\n",
    "syntax \n",
    "- f = open('filename.ext' , 'mode')\n",
    "  f.close()\n",
    "    \n",
    "closing the file is important othrwsie changes will not be saved\n",
    "\n",
    "2. data read from the file is in the string format\n",
    "\n",
    "3. modes of operation - text file\n",
    "\n",
    "- read mode - 'r'\n",
    "- write mode - 'w'\n",
    "- append mode - 'a'\n",
    "- read and write mode - 'r+'\n",
    "- write and read mode - 'w+'\n",
    "- append and read mmode  - 'a+'\n",
    "\n",
    "4. modes of operation - binary file\n",
    "\n",
    "- read mode - 'rb'\n",
    "- write mode - 'wb'\n",
    "- append mode - 'ab'\n",
    "- read and write mode - 'r+b'\n",
    "- write and read mode - 'w+b'\n",
    "- append and read mmode  - 'a+b'\n",
    "\n",
    "5. methods on file object\n",
    "\n",
    "- read - reading the content of the file\n",
    "- write - writing the content to the file\n",
    "- tell - tells the cursor position\n",
    "- seek - moves the cursor position to the specific location"
   ]
  },
  {
   "cell_type": "markdown",
   "metadata": {},
   "source": [
    "# Modes of Operation"
   ]
  },
  {
   "cell_type": "markdown",
   "metadata": {},
   "source": [
    "## 1. Read mode - 'r'\n",
    "- If the file exists then it will open the file in read mode and places the cursor at the begining of the file\n",
    "- if the file does not exists then it will give FileNotFoundError\n",
    "- You are allowed only to read from the file but not allowed to write into the file"
   ]
  },
  {
   "cell_type": "code",
   "execution_count": 1,
   "metadata": {},
   "outputs": [
    {
     "name": "stdout",
     "output_type": "stream",
     "text": [
      " class_10_map_reduce_filter_enumerate_iterator.ipynb\r\n",
      " class_11_module_filehandling.ipynb\r\n",
      " class_12_file_handling.ipynb\r\n",
      " class_4_string_part2_list.ipynb\r\n",
      " class_5_list_tuple.ipynb\r\n",
      " class_6_tuple_set_dic.ipynb\r\n",
      "'class_7_dict_conditional statments.ipynb'\r\n",
      " class_8_for_while_break_continue_range.ipynb\r\n",
      " class_9_functions_and_global_local_varibales.ipynb\r\n",
      "'Data Types.ipynb'\r\n",
      " float_complex_None_Bool_String.ipynb\r\n",
      " my_module.py\r\n",
      " \u001b[0m\u001b[01;34m__pycache__\u001b[0m/\r\n",
      "'string methods.ipynb'\r\n",
      " Untitled.ipynb\r\n"
     ]
    }
   ],
   "source": [
    "ls"
   ]
  },
  {
   "cell_type": "code",
   "execution_count": 2,
   "metadata": {},
   "outputs": [
    {
     "ename": "FileNotFoundError",
     "evalue": "[Errno 2] No such file or directory: 'text.py'",
     "output_type": "error",
     "traceback": [
      "\u001b[0;31m---------------------------------------------------------------------------\u001b[0m",
      "\u001b[0;31mFileNotFoundError\u001b[0m                         Traceback (most recent call last)",
      "\u001b[0;32m<ipython-input-2-1b13fe90433f>\u001b[0m in \u001b[0;36m<module>\u001b[0;34m\u001b[0m\n\u001b[1;32m      1\u001b[0m \u001b[0;31m# if file is not der\u001b[0m\u001b[0;34m\u001b[0m\u001b[0;34m\u001b[0m\u001b[0;34m\u001b[0m\u001b[0m\n\u001b[0;32m----> 2\u001b[0;31m \u001b[0mf\u001b[0m \u001b[0;34m=\u001b[0m \u001b[0mopen\u001b[0m\u001b[0;34m(\u001b[0m\u001b[0;34m'text.py'\u001b[0m \u001b[0;34m,\u001b[0m \u001b[0;34m'r'\u001b[0m\u001b[0;34m)\u001b[0m\u001b[0;34m\u001b[0m\u001b[0;34m\u001b[0m\u001b[0m\n\u001b[0m",
      "\u001b[0;31mFileNotFoundError\u001b[0m: [Errno 2] No such file or directory: 'text.py'"
     ]
    }
   ],
   "source": [
    "# if file is not der\n",
    "f = open('text.py' , 'r')"
   ]
  },
  {
   "cell_type": "code",
   "execution_count": 8,
   "metadata": {},
   "outputs": [
    {
     "name": "stdout",
     "output_type": "stream",
     "text": [
      "0\n",
      "this is an example of read mode \n",
      "32\n",
      "2\n",
      "2\n",
      "is is an example of read mode \n"
     ]
    },
    {
     "ename": "UnsupportedOperation",
     "evalue": "not writable",
     "output_type": "error",
     "traceback": [
      "\u001b[0;31m---------------------------------------------------------------------------\u001b[0m",
      "\u001b[0;31mUnsupportedOperation\u001b[0m                      Traceback (most recent call last)",
      "\u001b[0;32m<ipython-input-8-a4762991e6e8>\u001b[0m in \u001b[0;36m<module>\u001b[0;34m\u001b[0m\n\u001b[1;32m      7\u001b[0m \u001b[0mprint\u001b[0m\u001b[0;34m(\u001b[0m\u001b[0mf\u001b[0m\u001b[0;34m.\u001b[0m\u001b[0mtell\u001b[0m\u001b[0;34m(\u001b[0m\u001b[0;34m)\u001b[0m\u001b[0;34m)\u001b[0m\u001b[0;34m\u001b[0m\u001b[0;34m\u001b[0m\u001b[0m\n\u001b[1;32m      8\u001b[0m \u001b[0mprint\u001b[0m\u001b[0;34m(\u001b[0m\u001b[0mf\u001b[0m\u001b[0;34m.\u001b[0m\u001b[0mread\u001b[0m\u001b[0;34m(\u001b[0m\u001b[0;34m)\u001b[0m\u001b[0;34m)\u001b[0m\u001b[0;34m\u001b[0m\u001b[0;34m\u001b[0m\u001b[0m\n\u001b[0;32m----> 9\u001b[0;31m \u001b[0mf\u001b[0m\u001b[0;34m.\u001b[0m\u001b[0mwrite\u001b[0m\u001b[0;34m(\u001b[0m\u001b[0;34m'hello'\u001b[0m\u001b[0;34m)\u001b[0m\u001b[0;34m\u001b[0m\u001b[0;34m\u001b[0m\u001b[0m\n\u001b[0m",
      "\u001b[0;31mUnsupportedOperation\u001b[0m: not writable"
     ]
    }
   ],
   "source": [
    "# if file is der\n",
    "f = open('read_mode.txt' , 'r')\n",
    "print(f.tell())\n",
    "print(f.read())\n",
    "print(f.tell())\n",
    "print(f.seek(2))\n",
    "print(f.tell())\n",
    "print(f.read())\n",
    "f.write('hello')"
   ]
  },
  {
   "cell_type": "markdown",
   "metadata": {},
   "source": [
    "## 2. Write mode - 'w'\n",
    "- If the file exists then it will open the file in write mode and deletes the content of the file\n",
    "- if the file does not exists then it will create a file with given name and extension\n",
    "- You are allowed only to write into the file but not allowed to read from the file"
   ]
  },
  {
   "cell_type": "code",
   "execution_count": 10,
   "metadata": {},
   "outputs": [],
   "source": [
    "# if file is not der\n",
    "f = open('text.py' , 'w')"
   ]
  },
  {
   "cell_type": "code",
   "execution_count": 11,
   "metadata": {},
   "outputs": [
    {
     "name": "stdout",
     "output_type": "stream",
     "text": [
      " class_10_map_reduce_filter_enumerate_iterator.ipynb\r\n",
      " class_11_module_filehandling.ipynb\r\n",
      " class_12_file_handling.ipynb\r\n",
      " class_4_string_part2_list.ipynb\r\n",
      " class_5_list_tuple.ipynb\r\n",
      " class_6_tuple_set_dic.ipynb\r\n",
      "'class_7_dict_conditional statments.ipynb'\r\n",
      " class_8_for_while_break_continue_range.ipynb\r\n",
      " class_9_functions_and_global_local_varibales.ipynb\r\n",
      "'Data Types.ipynb'\r\n",
      " float_complex_None_Bool_String.ipynb\r\n",
      " my_module.py\r\n",
      " \u001b[0m\u001b[01;34m__pycache__\u001b[0m/\r\n",
      " read_mode.txt\r\n",
      "'string methods.ipynb'\r\n",
      " text.py\r\n",
      " Untitled.ipynb\r\n"
     ]
    }
   ],
   "source": [
    "ls"
   ]
  },
  {
   "cell_type": "code",
   "execution_count": 18,
   "metadata": {},
   "outputs": [],
   "source": [
    "# if file is der\n",
    "f = open('write_mode.txt' , 'w')\n",
    "f.tell()\n",
    "# f.read()\n",
    "f.write('this is a write mode example file')\n",
    "print(f.tell())\n",
    "f.seek(3)\n",
    "f.write('hola')\n",
    "f.close()"
   ]
  },
  {
   "cell_type": "markdown",
   "metadata": {},
   "source": [
    "## 3. Append mode - 'a'\n",
    "- If the file exists then it will open the file in write mode and places the cursor at the end of the file\n",
    "- if the file does not exists then it will create a file with given name and extension\n",
    "- You are allowed only to write into the file but not allowed to read from the file\n",
    "- append will always write the the content at the end of the file so seek() will not here"
   ]
  },
  {
   "cell_type": "code",
   "execution_count": 19,
   "metadata": {},
   "outputs": [],
   "source": [
    "# if the file is not der\n",
    "\n",
    "f = open('append_mode.txt' , 'a')"
   ]
  },
  {
   "cell_type": "code",
   "execution_count": 21,
   "metadata": {},
   "outputs": [
    {
     "name": "stdout",
     "output_type": "stream",
     "text": [
      "36\n",
      "4\n",
      "39\n"
     ]
    },
    {
     "ename": "UnsupportedOperation",
     "evalue": "not readable",
     "output_type": "error",
     "traceback": [
      "\u001b[0;31m---------------------------------------------------------------------------\u001b[0m",
      "\u001b[0;31mUnsupportedOperation\u001b[0m                      Traceback (most recent call last)",
      "\u001b[0;32m<ipython-input-21-b1913cf6621c>\u001b[0m in \u001b[0;36m<module>\u001b[0;34m\u001b[0m\n\u001b[1;32m      7\u001b[0m \u001b[0mf\u001b[0m\u001b[0;34m.\u001b[0m\u001b[0mwrite\u001b[0m\u001b[0;34m(\u001b[0m\u001b[0;34m'hey'\u001b[0m\u001b[0;34m)\u001b[0m\u001b[0;34m\u001b[0m\u001b[0;34m\u001b[0m\u001b[0m\n\u001b[1;32m      8\u001b[0m \u001b[0mprint\u001b[0m\u001b[0;34m(\u001b[0m\u001b[0mf\u001b[0m\u001b[0;34m.\u001b[0m\u001b[0mtell\u001b[0m\u001b[0;34m(\u001b[0m\u001b[0;34m)\u001b[0m\u001b[0;34m)\u001b[0m\u001b[0;34m\u001b[0m\u001b[0;34m\u001b[0m\u001b[0m\n\u001b[0;32m----> 9\u001b[0;31m \u001b[0mprint\u001b[0m\u001b[0;34m(\u001b[0m\u001b[0mf\u001b[0m\u001b[0;34m.\u001b[0m\u001b[0mread\u001b[0m\u001b[0;34m(\u001b[0m\u001b[0;34m)\u001b[0m\u001b[0;34m)\u001b[0m\u001b[0;34m\u001b[0m\u001b[0;34m\u001b[0m\u001b[0m\n\u001b[0m",
      "\u001b[0;31mUnsupportedOperation\u001b[0m: not readable"
     ]
    }
   ],
   "source": [
    "# if the file is der\n",
    "\n",
    "f = open('append_mode.txt' , 'a')\n",
    "print(f.tell())\n",
    "f.seek(4)\n",
    "print(f.tell())\n",
    "f.write('hey')\n",
    "print(f.tell())\n",
    "print(f.read())"
   ]
  },
  {
   "cell_type": "code",
   "execution_count": null,
   "metadata": {},
   "outputs": [],
   "source": [
    "## 4. Write and read mode - 'w+'\n",
    "- If the file exists then it will open the file in write mode and deletes the content of teh file\n",
    "- if the file does not exists then it will create a file with given name and extension\n",
    "- You are allowed to write into the file and also allowed to read from the file"
   ]
  },
  {
   "cell_type": "code",
   "execution_count": 22,
   "metadata": {},
   "outputs": [],
   "source": [
    "# if file is not der\n",
    "f = open('write_read_mode.py', 'w+')"
   ]
  },
  {
   "cell_type": "code",
   "execution_count": 23,
   "metadata": {},
   "outputs": [
    {
     "name": "stdout",
     "output_type": "stream",
     "text": [
      " append_mode.txt\r\n",
      " class_10_map_reduce_filter_enumerate_iterator.ipynb\r\n",
      " class_11_module_filehandling.ipynb\r\n",
      " class_12_file_handling.ipynb\r\n",
      " class_4_string_part2_list.ipynb\r\n",
      " class_5_list_tuple.ipynb\r\n",
      " class_6_tuple_set_dic.ipynb\r\n",
      "'class_7_dict_conditional statments.ipynb'\r\n",
      " class_8_for_while_break_continue_range.ipynb\r\n",
      " class_9_functions_and_global_local_varibales.ipynb\r\n",
      "'Data Types.ipynb'\r\n",
      " float_complex_None_Bool_String.ipynb\r\n",
      " my_module.py\r\n",
      " \u001b[0m\u001b[01;34m__pycache__\u001b[0m/\r\n",
      " read_mode.txt\r\n",
      "'string methods.ipynb'\r\n",
      " text.py\r\n",
      " Untitled.ipynb\r\n",
      " write_mode.txt\r\n",
      " write_read_mode.py\r\n"
     ]
    }
   ],
   "source": [
    "ls"
   ]
  },
  {
   "cell_type": "code",
   "execution_count": 29,
   "metadata": {},
   "outputs": [
    {
     "name": "stdout",
     "output_type": "stream",
     "text": [
      "0\n",
      "4\n",
      "0\n",
      "\u0000\u0000\u0000\u0000hello\n"
     ]
    }
   ],
   "source": [
    "# if file is der\n",
    "f = open('write_read_mode.py', 'w+')\n",
    "print(f.tell())\n",
    "f.seek(4)\n",
    "print(f.tell())\n",
    "f.write('hello')\n",
    "print(f.seek(0))\n",
    "print(f.read())\n",
    "f.close()"
   ]
  },
  {
   "cell_type": "markdown",
   "metadata": {},
   "source": [
    "## 5. read and write - 'r+'\n",
    "- If the file exists then it will open the file in read mode and places the cursor at the begining of the file\n",
    "- if the file does not exists then it will give FileNotFoundError\n",
    "- You are allowed to write into the file and also allowed to read from the file"
   ]
  },
  {
   "cell_type": "code",
   "execution_count": 31,
   "metadata": {},
   "outputs": [
    {
     "ename": "FileNotFoundError",
     "evalue": "[Errno 2] No such file or directory: 'read_write_mode.py'",
     "output_type": "error",
     "traceback": [
      "\u001b[0;31m---------------------------------------------------------------------------\u001b[0m",
      "\u001b[0;31mFileNotFoundError\u001b[0m                         Traceback (most recent call last)",
      "\u001b[0;32m<ipython-input-31-69cd0712b410>\u001b[0m in \u001b[0;36m<module>\u001b[0;34m\u001b[0m\n\u001b[1;32m      1\u001b[0m \u001b[0;31m# if file is not der\u001b[0m\u001b[0;34m\u001b[0m\u001b[0;34m\u001b[0m\u001b[0;34m\u001b[0m\u001b[0m\n\u001b[0;32m----> 2\u001b[0;31m \u001b[0mf\u001b[0m \u001b[0;34m=\u001b[0m \u001b[0mopen\u001b[0m\u001b[0;34m(\u001b[0m\u001b[0;34m'read_write_mode.py'\u001b[0m\u001b[0;34m,\u001b[0m \u001b[0;34m'r+'\u001b[0m\u001b[0;34m)\u001b[0m\u001b[0;34m\u001b[0m\u001b[0;34m\u001b[0m\u001b[0m\n\u001b[0m",
      "\u001b[0;31mFileNotFoundError\u001b[0m: [Errno 2] No such file or directory: 'read_write_mode.py'"
     ]
    }
   ],
   "source": [
    "# if file is not der\n",
    "f = open('read_write_mode.py', 'r+')"
   ]
  },
  {
   "cell_type": "code",
   "execution_count": 36,
   "metadata": {},
   "outputs": [
    {
     "name": "stdout",
     "output_type": "stream",
     "text": [
      "0\n",
      "10\n",
      "dxyz\n",
      "14\n"
     ]
    }
   ],
   "source": [
    "# if file is not der\n",
    "f = open('read_write_mode.py', 'r+')\n",
    "print(f.tell())\n",
    "f.seek(10)\n",
    "print(f.tell())\n",
    "print(f.read())\n",
    "print(f.tell())\n",
    "f.write('xyz')\n",
    "f.seek(2)\n",
    "f.write('afsaan')\n",
    "f.close()"
   ]
  },
  {
   "cell_type": "code",
   "execution_count": null,
   "metadata": {},
   "outputs": [],
   "source": [
    "# 6. Append and read mode - 'a+'\n",
    "\n",
    "- If the file exists then it will open the file in append mode and places the cursor at the end of the file\n",
    "- if the file does not exists then it will create a file with given name and extension\n",
    "- You are allowed to write into the file and also allowed to read from the file\n",
    "- append will always write the the content at the end of the file so seek() will not here"
   ]
  },
  {
   "cell_type": "code",
   "execution_count": 37,
   "metadata": {},
   "outputs": [],
   "source": [
    "# if file is not der\n",
    "\n",
    "f = open('append_read_mode.py' , 'a+')"
   ]
  },
  {
   "cell_type": "code",
   "execution_count": 38,
   "metadata": {},
   "outputs": [
    {
     "name": "stdout",
     "output_type": "stream",
     "text": [
      "33\n",
      "4\n",
      "France won the Euro cup final\n",
      "33\n",
      "37\n"
     ]
    }
   ],
   "source": [
    "# if file is not der\n",
    "\n",
    "f = open('append_read_mode.py' , 'a+')\n",
    "print(f.tell())  # eof\n",
    "print(f.seek(4)) # at loc 4\n",
    "print(f.read()) # read the file from loc 4\n",
    "print(f.tell()) # eof\n",
    "f.seek(5)  # moves the cursoe at loc 5\n",
    "f.write('heya') # writes heya at the end of the file\n",
    "print(f.tell()) # eof"
   ]
  },
  {
   "cell_type": "markdown",
   "metadata": {},
   "source": [
    "# Methods to do the operation on Read mode\n",
    "- read() - reads the whole content of the file and returns a string object\n",
    "- read(char) - reads the specified no of characters from current position and returns string\n",
    "- readline() - reads the current line from the current position of the cursor and retruns a string object\n",
    "- readlines() - reads the whole content of the file and retuns a list of string where every element is a string and represents a line"
   ]
  },
  {
   "cell_type": "code",
   "execution_count": 39,
   "metadata": {},
   "outputs": [
    {
     "name": "stdout",
     "output_type": "stream",
     "text": [
      "hey France won the Euro cup final\n",
      "csk is in final\n",
      "wordcup t-20 is starting soon <class 'str'>\n"
     ]
    }
   ],
   "source": [
    "f = open('append_read_mode.py' , 'r')\n",
    "var = f.read()\n",
    "print(var , type(var))"
   ]
  },
  {
   "cell_type": "code",
   "execution_count": 40,
   "metadata": {},
   "outputs": [
    {
     "name": "stdout",
     "output_type": "stream",
     "text": [
      "hey  <class 'str'>\n"
     ]
    }
   ],
   "source": [
    "f = open('append_read_mode.py' , 'r')\n",
    "var = f.read(4)\n",
    "print(var , type(var))"
   ]
  },
  {
   "cell_type": "code",
   "execution_count": 44,
   "metadata": {},
   "outputs": [
    {
     "name": "stdout",
     "output_type": "stream",
     "text": [
      "k is in final\n",
      " <class 'str'>\n"
     ]
    }
   ],
   "source": [
    "f = open('append_read_mode.py' , 'r')\n",
    "f.seek(36)\n",
    "var = f.readline()\n",
    "print(var , type(var))"
   ]
  },
  {
   "cell_type": "code",
   "execution_count": 47,
   "metadata": {},
   "outputs": [
    {
     "name": "stdout",
     "output_type": "stream",
     "text": [
      "['k is in final\\n', 'wordcup t-20 is starting soon\\n', ' '] <class 'list'>\n"
     ]
    }
   ],
   "source": [
    "f = open('append_read_mode.py' , 'r')\n",
    "f.seek(36)\n",
    "var = f.readlines()\n",
    "print(var , type(var))"
   ]
  },
  {
   "cell_type": "code",
   "execution_count": null,
   "metadata": {},
   "outputs": [],
   "source": [
    "# Methods to do the operation on Write mode\n",
    "- write('str')\n",
    "- writelines(['str1\\n', 'str2\\n', 'str3\\n'])"
   ]
  },
  {
   "cell_type": "code",
   "execution_count": 49,
   "metadata": {},
   "outputs": [],
   "source": [
    "f = open('write_mode_op.py' , 'w')\n",
    "f.write('abc')\n",
    "f.close()"
   ]
  },
  {
   "cell_type": "code",
   "execution_count": 51,
   "metadata": {},
   "outputs": [],
   "source": [
    "f = open('write_mode_op.py' , 'w')\n",
    "f.writelines(['str1', 'str2', 'str3'])\n",
    "f.close()"
   ]
  },
  {
   "cell_type": "markdown",
   "metadata": {},
   "source": [
    "## file handling 'with' stament"
   ]
  },
  {
   "cell_type": "code",
   "execution_count": 55,
   "metadata": {},
   "outputs": [],
   "source": [
    "with open('write_mode_op.py' , 'w') as f:\n",
    "    f.writelines(['str111', 'str222', 'str333'])"
   ]
  },
  {
   "cell_type": "code",
   "execution_count": null,
   "metadata": {},
   "outputs": [],
   "source": [
    "Lorem Ipsum is simply dummy text of the printing and typesetting industry. \n",
    "Lorem Ipsum has been the industry standard dummy text ever since the 1500s, when an unknown printer took a galley of type and scrambled it to make a type specimen book. \n",
    "It has survived not only five centuries, but also the leap into electronic typesetting, remaining essentially unchanged. \n",
    "It was popularised in the 1960s with the release of Letraset sheets containing Lorem Ipsum passages, and more recently with desktop publishing software like Aldus PageMaker including versions of Lorem Ipsum."
   ]
  },
  {
   "cell_type": "code",
   "execution_count": null,
   "metadata": {},
   "outputs": [],
   "source": [
    "# question 1 - Count the no of char , words , line from a file - 6\n",
    "# question2 - take one image (python.jpg) , copy the content of python.jpg to a new file python.png - 6"
   ]
  },
  {
   "cell_type": "code",
   "execution_count": 57,
   "metadata": {},
   "outputs": [
    {
     "name": "stdout",
     "output_type": "stream",
     "text": [
      "4\n",
      "575\n",
      "91\n"
     ]
    }
   ],
   "source": [
    "with open('Assignment.txt' , 'r') as f:\n",
    "    no_of_lines = len(f.readlines())\n",
    "    f.seek(0)\n",
    "    no_of_char = len(f.read())\n",
    "    f.seek(0)\n",
    "    no_of_words  = len(f.read().split())\n",
    "    print(no_of_lines)\n",
    "    print(no_of_char)\n",
    "    print(no_of_words)"
   ]
  },
  {
   "cell_type": "code",
   "execution_count": null,
   "metadata": {},
   "outputs": [],
   "source": [
    "with opne('python.jpg' , 'rb') as f1:\n",
    "    with open('new.png', 'wb') as 21:\n",
    "        f2.write(f1.read(())`"
   ]
  },
  {
   "cell_type": "code",
   "execution_count": null,
   "metadata": {},
   "outputs": [],
   "source": [
    "with open(\"python.png\", 'rb') as f:\n",
    "var = f.read()\n",
    "\n",
    "with open(\"python.jpg\", 'wb') as f:\n",
    "f.write(var) \n",
    "f.close()"
   ]
  }
 ],
 "metadata": {
  "kernelspec": {
   "display_name": "Python 3",
   "language": "python",
   "name": "python3"
  },
  "language_info": {
   "codemirror_mode": {
    "name": "ipython",
    "version": 3
   },
   "file_extension": ".py",
   "mimetype": "text/x-python",
   "name": "python",
   "nbconvert_exporter": "python",
   "pygments_lexer": "ipython3",
   "version": "3.8.5"
  }
 },
 "nbformat": 4,
 "nbformat_minor": 4
}
